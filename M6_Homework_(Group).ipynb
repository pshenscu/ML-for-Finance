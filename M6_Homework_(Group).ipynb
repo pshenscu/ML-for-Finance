{
  "cells": [
    {
      "cell_type": "markdown",
      "metadata": {
        "id": "2aztI0ZembnB"
      },
      "source": [
        "**M6: Homework **\n",
        "(by Justin Jose, Pei Shen )\n",
        "## Instructions\n",
        "In this homework, you will use a lending dataset to find the best model to predict who should be given a loan, i.e., determine who will repay in full (or some other criteria you may choose for a good loan). This classification problem assigns a \"1\" to good loans and \"0\" to bad loans. The idea is to build a model that will decide on whether to make the loan or not, so you cannot use information that will arrive after the loan is made.\n",
        "\n",
        "You will need to decide on the definition of \"1” and \"0\" based on the \"loan_status\" variable in the dataset. Look carefully at the categories and decide which ones you wish to use as 1s and which ones are 0s. This may result in your eliminating rows in your final dataset if you decide not to use all the categories (the ones with very few loans may not be worth retaining). \n",
        "\n",
        "Carefully design your feature set. You do not need to use all the variables (some may not be useful, such as “id”, “member_id”, “emp_title”). Why might you not need some of these variables/features? They are categorical and will need to be handled carefully. You can normalize and rebalance your data. Intermediate unsupervised learning techniques may or may not help.\n",
        "\n",
        "There is missing data. Make a decision on how you will handle those cases. Try to drop columns with very few values. \n",
        "\n",
        "Keep 30% of the data for testing, 70% for training.\n",
        "\n",
        "You must only use features (variables/columns) in the dataset that are available at the time of making the loan, so you need to use your understanding of finance to determine which those features are. This will simplify your dataset, of course. \n",
        "\n",
        "Then use any, some, or all of the classifiers you have learned to construct a good ML model to get as high prediction performance as you can, in terms of accuracy and AUC. You may even ensemble the models.\n",
        "\n",
        "Your grade will be based on relative accuracy/AUC versus your peers, so this will be like a competition. Since you have now learned a range of classifiers and other techniques, every team will have a very different solution, which will be interesting. But it will also give you a feel of a real-world ML situation in which you work to find better models."
      ]
    },
    {
      "cell_type": "code",
      "execution_count": null,
      "metadata": {
        "colab": {
          "base_uri": "https://localhost:8080/",
          "height": 733
        },
        "id": "F3WzQALsmsnk",
        "outputId": "e846dd37-5211-45b4-bbf2-d7585bb8e2aa"
      },
      "outputs": [
        {
          "name": "stdout",
          "output_type": "stream",
          "text": [
            "Populating the interactive namespace from numpy and matplotlib\n",
            "Mounted at /content/drive\n"
          ]
        },
        {
          "name": "stderr",
          "output_type": "stream",
          "text": [
            "<ipython-input-2-71f73b2b5163>:11: DtypeWarning: Columns (19,55) have mixed types. Specify dtype option on import or set low_memory=False.\n",
            "  loan = pd.read_csv('loan.csv')\n"
          ]
        },
        {
          "data": {
            "text/html": [
              "\n",
              "  <div id=\"df-1d9e652f-2426-4c17-bc82-085fbf81624f\">\n",
              "    <div class=\"colab-df-container\">\n",
              "      <div>\n",
              "<style scoped>\n",
              "    .dataframe tbody tr th:only-of-type {\n",
              "        vertical-align: middle;\n",
              "    }\n",
              "\n",
              "    .dataframe tbody tr th {\n",
              "        vertical-align: top;\n",
              "    }\n",
              "\n",
              "    .dataframe thead th {\n",
              "        text-align: right;\n",
              "    }\n",
              "</style>\n",
              "<table border=\"1\" class=\"dataframe\">\n",
              "  <thead>\n",
              "    <tr style=\"text-align: right;\">\n",
              "      <th></th>\n",
              "      <th>id</th>\n",
              "      <th>member_id</th>\n",
              "      <th>loan_amnt</th>\n",
              "      <th>funded_amnt</th>\n",
              "      <th>funded_amnt_inv</th>\n",
              "      <th>term</th>\n",
              "      <th>int_rate</th>\n",
              "      <th>installment</th>\n",
              "      <th>grade</th>\n",
              "      <th>sub_grade</th>\n",
              "      <th>...</th>\n",
              "      <th>total_bal_il</th>\n",
              "      <th>il_util</th>\n",
              "      <th>open_rv_12m</th>\n",
              "      <th>open_rv_24m</th>\n",
              "      <th>max_bal_bc</th>\n",
              "      <th>all_util</th>\n",
              "      <th>total_rev_hi_lim</th>\n",
              "      <th>inq_fi</th>\n",
              "      <th>total_cu_tl</th>\n",
              "      <th>inq_last_12m</th>\n",
              "    </tr>\n",
              "  </thead>\n",
              "  <tbody>\n",
              "    <tr>\n",
              "      <th>0</th>\n",
              "      <td>1077501</td>\n",
              "      <td>1296599</td>\n",
              "      <td>5000.0</td>\n",
              "      <td>5000.0</td>\n",
              "      <td>4975.0</td>\n",
              "      <td>36 months</td>\n",
              "      <td>10.65</td>\n",
              "      <td>162.87</td>\n",
              "      <td>B</td>\n",
              "      <td>B2</td>\n",
              "      <td>...</td>\n",
              "      <td>NaN</td>\n",
              "      <td>NaN</td>\n",
              "      <td>NaN</td>\n",
              "      <td>NaN</td>\n",
              "      <td>NaN</td>\n",
              "      <td>NaN</td>\n",
              "      <td>NaN</td>\n",
              "      <td>NaN</td>\n",
              "      <td>NaN</td>\n",
              "      <td>NaN</td>\n",
              "    </tr>\n",
              "    <tr>\n",
              "      <th>1</th>\n",
              "      <td>1077430</td>\n",
              "      <td>1314167</td>\n",
              "      <td>2500.0</td>\n",
              "      <td>2500.0</td>\n",
              "      <td>2500.0</td>\n",
              "      <td>60 months</td>\n",
              "      <td>15.27</td>\n",
              "      <td>59.83</td>\n",
              "      <td>C</td>\n",
              "      <td>C4</td>\n",
              "      <td>...</td>\n",
              "      <td>NaN</td>\n",
              "      <td>NaN</td>\n",
              "      <td>NaN</td>\n",
              "      <td>NaN</td>\n",
              "      <td>NaN</td>\n",
              "      <td>NaN</td>\n",
              "      <td>NaN</td>\n",
              "      <td>NaN</td>\n",
              "      <td>NaN</td>\n",
              "      <td>NaN</td>\n",
              "    </tr>\n",
              "    <tr>\n",
              "      <th>2</th>\n",
              "      <td>1077175</td>\n",
              "      <td>1313524</td>\n",
              "      <td>2400.0</td>\n",
              "      <td>2400.0</td>\n",
              "      <td>2400.0</td>\n",
              "      <td>36 months</td>\n",
              "      <td>15.96</td>\n",
              "      <td>84.33</td>\n",
              "      <td>C</td>\n",
              "      <td>C5</td>\n",
              "      <td>...</td>\n",
              "      <td>NaN</td>\n",
              "      <td>NaN</td>\n",
              "      <td>NaN</td>\n",
              "      <td>NaN</td>\n",
              "      <td>NaN</td>\n",
              "      <td>NaN</td>\n",
              "      <td>NaN</td>\n",
              "      <td>NaN</td>\n",
              "      <td>NaN</td>\n",
              "      <td>NaN</td>\n",
              "    </tr>\n",
              "    <tr>\n",
              "      <th>3</th>\n",
              "      <td>1076863</td>\n",
              "      <td>1277178</td>\n",
              "      <td>10000.0</td>\n",
              "      <td>10000.0</td>\n",
              "      <td>10000.0</td>\n",
              "      <td>36 months</td>\n",
              "      <td>13.49</td>\n",
              "      <td>339.31</td>\n",
              "      <td>C</td>\n",
              "      <td>C1</td>\n",
              "      <td>...</td>\n",
              "      <td>NaN</td>\n",
              "      <td>NaN</td>\n",
              "      <td>NaN</td>\n",
              "      <td>NaN</td>\n",
              "      <td>NaN</td>\n",
              "      <td>NaN</td>\n",
              "      <td>NaN</td>\n",
              "      <td>NaN</td>\n",
              "      <td>NaN</td>\n",
              "      <td>NaN</td>\n",
              "    </tr>\n",
              "    <tr>\n",
              "      <th>4</th>\n",
              "      <td>1075358</td>\n",
              "      <td>1311748</td>\n",
              "      <td>3000.0</td>\n",
              "      <td>3000.0</td>\n",
              "      <td>3000.0</td>\n",
              "      <td>60 months</td>\n",
              "      <td>12.69</td>\n",
              "      <td>67.79</td>\n",
              "      <td>B</td>\n",
              "      <td>B5</td>\n",
              "      <td>...</td>\n",
              "      <td>NaN</td>\n",
              "      <td>NaN</td>\n",
              "      <td>NaN</td>\n",
              "      <td>NaN</td>\n",
              "      <td>NaN</td>\n",
              "      <td>NaN</td>\n",
              "      <td>NaN</td>\n",
              "      <td>NaN</td>\n",
              "      <td>NaN</td>\n",
              "      <td>NaN</td>\n",
              "    </tr>\n",
              "    <tr>\n",
              "      <th>...</th>\n",
              "      <td>...</td>\n",
              "      <td>...</td>\n",
              "      <td>...</td>\n",
              "      <td>...</td>\n",
              "      <td>...</td>\n",
              "      <td>...</td>\n",
              "      <td>...</td>\n",
              "      <td>...</td>\n",
              "      <td>...</td>\n",
              "      <td>...</td>\n",
              "      <td>...</td>\n",
              "      <td>...</td>\n",
              "      <td>...</td>\n",
              "      <td>...</td>\n",
              "      <td>...</td>\n",
              "      <td>...</td>\n",
              "      <td>...</td>\n",
              "      <td>...</td>\n",
              "      <td>...</td>\n",
              "      <td>...</td>\n",
              "      <td>...</td>\n",
              "    </tr>\n",
              "    <tr>\n",
              "      <th>887374</th>\n",
              "      <td>36371250</td>\n",
              "      <td>39102635</td>\n",
              "      <td>10000.0</td>\n",
              "      <td>10000.0</td>\n",
              "      <td>10000.0</td>\n",
              "      <td>36 months</td>\n",
              "      <td>11.99</td>\n",
              "      <td>332.10</td>\n",
              "      <td>B</td>\n",
              "      <td>B5</td>\n",
              "      <td>...</td>\n",
              "      <td>NaN</td>\n",
              "      <td>NaN</td>\n",
              "      <td>NaN</td>\n",
              "      <td>NaN</td>\n",
              "      <td>NaN</td>\n",
              "      <td>NaN</td>\n",
              "      <td>17100.0</td>\n",
              "      <td>NaN</td>\n",
              "      <td>NaN</td>\n",
              "      <td>NaN</td>\n",
              "    </tr>\n",
              "    <tr>\n",
              "      <th>887375</th>\n",
              "      <td>36441262</td>\n",
              "      <td>39152692</td>\n",
              "      <td>24000.0</td>\n",
              "      <td>24000.0</td>\n",
              "      <td>24000.0</td>\n",
              "      <td>36 months</td>\n",
              "      <td>11.99</td>\n",
              "      <td>797.03</td>\n",
              "      <td>B</td>\n",
              "      <td>B5</td>\n",
              "      <td>...</td>\n",
              "      <td>NaN</td>\n",
              "      <td>NaN</td>\n",
              "      <td>NaN</td>\n",
              "      <td>NaN</td>\n",
              "      <td>NaN</td>\n",
              "      <td>NaN</td>\n",
              "      <td>10200.0</td>\n",
              "      <td>NaN</td>\n",
              "      <td>NaN</td>\n",
              "      <td>NaN</td>\n",
              "    </tr>\n",
              "    <tr>\n",
              "      <th>887376</th>\n",
              "      <td>36271333</td>\n",
              "      <td>38982739</td>\n",
              "      <td>13000.0</td>\n",
              "      <td>13000.0</td>\n",
              "      <td>13000.0</td>\n",
              "      <td>60 months</td>\n",
              "      <td>15.99</td>\n",
              "      <td>316.07</td>\n",
              "      <td>D</td>\n",
              "      <td>D2</td>\n",
              "      <td>...</td>\n",
              "      <td>NaN</td>\n",
              "      <td>NaN</td>\n",
              "      <td>NaN</td>\n",
              "      <td>NaN</td>\n",
              "      <td>NaN</td>\n",
              "      <td>NaN</td>\n",
              "      <td>18000.0</td>\n",
              "      <td>NaN</td>\n",
              "      <td>NaN</td>\n",
              "      <td>NaN</td>\n",
              "    </tr>\n",
              "    <tr>\n",
              "      <th>887377</th>\n",
              "      <td>36490806</td>\n",
              "      <td>39222577</td>\n",
              "      <td>12000.0</td>\n",
              "      <td>12000.0</td>\n",
              "      <td>12000.0</td>\n",
              "      <td>60 months</td>\n",
              "      <td>19.99</td>\n",
              "      <td>317.86</td>\n",
              "      <td>E</td>\n",
              "      <td>E3</td>\n",
              "      <td>...</td>\n",
              "      <td>NaN</td>\n",
              "      <td>NaN</td>\n",
              "      <td>NaN</td>\n",
              "      <td>NaN</td>\n",
              "      <td>NaN</td>\n",
              "      <td>NaN</td>\n",
              "      <td>27000.0</td>\n",
              "      <td>NaN</td>\n",
              "      <td>NaN</td>\n",
              "      <td>NaN</td>\n",
              "    </tr>\n",
              "    <tr>\n",
              "      <th>887378</th>\n",
              "      <td>36271262</td>\n",
              "      <td>38982659</td>\n",
              "      <td>20000.0</td>\n",
              "      <td>20000.0</td>\n",
              "      <td>20000.0</td>\n",
              "      <td>36 months</td>\n",
              "      <td>11.99</td>\n",
              "      <td>664.20</td>\n",
              "      <td>B</td>\n",
              "      <td>B5</td>\n",
              "      <td>...</td>\n",
              "      <td>NaN</td>\n",
              "      <td>NaN</td>\n",
              "      <td>NaN</td>\n",
              "      <td>NaN</td>\n",
              "      <td>NaN</td>\n",
              "      <td>NaN</td>\n",
              "      <td>41700.0</td>\n",
              "      <td>NaN</td>\n",
              "      <td>NaN</td>\n",
              "      <td>NaN</td>\n",
              "    </tr>\n",
              "  </tbody>\n",
              "</table>\n",
              "<p>887379 rows × 74 columns</p>\n",
              "</div>\n",
              "      <button class=\"colab-df-convert\" onclick=\"convertToInteractive('df-1d9e652f-2426-4c17-bc82-085fbf81624f')\"\n",
              "              title=\"Convert this dataframe to an interactive table.\"\n",
              "              style=\"display:none;\">\n",
              "        \n",
              "  <svg xmlns=\"http://www.w3.org/2000/svg\" height=\"24px\"viewBox=\"0 0 24 24\"\n",
              "       width=\"24px\">\n",
              "    <path d=\"M0 0h24v24H0V0z\" fill=\"none\"/>\n",
              "    <path d=\"M18.56 5.44l.94 2.06.94-2.06 2.06-.94-2.06-.94-.94-2.06-.94 2.06-2.06.94zm-11 1L8.5 8.5l.94-2.06 2.06-.94-2.06-.94L8.5 2.5l-.94 2.06-2.06.94zm10 10l.94 2.06.94-2.06 2.06-.94-2.06-.94-.94-2.06-.94 2.06-2.06.94z\"/><path d=\"M17.41 7.96l-1.37-1.37c-.4-.4-.92-.59-1.43-.59-.52 0-1.04.2-1.43.59L10.3 9.45l-7.72 7.72c-.78.78-.78 2.05 0 2.83L4 21.41c.39.39.9.59 1.41.59.51 0 1.02-.2 1.41-.59l7.78-7.78 2.81-2.81c.8-.78.8-2.07 0-2.86zM5.41 20L4 18.59l7.72-7.72 1.47 1.35L5.41 20z\"/>\n",
              "  </svg>\n",
              "      </button>\n",
              "      \n",
              "  <style>\n",
              "    .colab-df-container {\n",
              "      display:flex;\n",
              "      flex-wrap:wrap;\n",
              "      gap: 12px;\n",
              "    }\n",
              "\n",
              "    .colab-df-convert {\n",
              "      background-color: #E8F0FE;\n",
              "      border: none;\n",
              "      border-radius: 50%;\n",
              "      cursor: pointer;\n",
              "      display: none;\n",
              "      fill: #1967D2;\n",
              "      height: 32px;\n",
              "      padding: 0 0 0 0;\n",
              "      width: 32px;\n",
              "    }\n",
              "\n",
              "    .colab-df-convert:hover {\n",
              "      background-color: #E2EBFA;\n",
              "      box-shadow: 0px 1px 2px rgba(60, 64, 67, 0.3), 0px 1px 3px 1px rgba(60, 64, 67, 0.15);\n",
              "      fill: #174EA6;\n",
              "    }\n",
              "\n",
              "    [theme=dark] .colab-df-convert {\n",
              "      background-color: #3B4455;\n",
              "      fill: #D2E3FC;\n",
              "    }\n",
              "\n",
              "    [theme=dark] .colab-df-convert:hover {\n",
              "      background-color: #434B5C;\n",
              "      box-shadow: 0px 1px 3px 1px rgba(0, 0, 0, 0.15);\n",
              "      filter: drop-shadow(0px 1px 2px rgba(0, 0, 0, 0.3));\n",
              "      fill: #FFFFFF;\n",
              "    }\n",
              "  </style>\n",
              "\n",
              "      <script>\n",
              "        const buttonEl =\n",
              "          document.querySelector('#df-1d9e652f-2426-4c17-bc82-085fbf81624f button.colab-df-convert');\n",
              "        buttonEl.style.display =\n",
              "          google.colab.kernel.accessAllowed ? 'block' : 'none';\n",
              "\n",
              "        async function convertToInteractive(key) {\n",
              "          const element = document.querySelector('#df-1d9e652f-2426-4c17-bc82-085fbf81624f');\n",
              "          const dataTable =\n",
              "            await google.colab.kernel.invokeFunction('convertToInteractive',\n",
              "                                                     [key], {});\n",
              "          if (!dataTable) return;\n",
              "\n",
              "          const docLinkHtml = 'Like what you see? Visit the ' +\n",
              "            '<a target=\"_blank\" href=https://colab.research.google.com/notebooks/data_table.ipynb>data table notebook</a>'\n",
              "            + ' to learn more about interactive tables.';\n",
              "          element.innerHTML = '';\n",
              "          dataTable['output_type'] = 'display_data';\n",
              "          await google.colab.output.renderOutput(dataTable, element);\n",
              "          const docLink = document.createElement('div');\n",
              "          docLink.innerHTML = docLinkHtml;\n",
              "          element.appendChild(docLink);\n",
              "        }\n",
              "      </script>\n",
              "    </div>\n",
              "  </div>\n",
              "  "
            ],
            "text/plain": [
              "              id  member_id  loan_amnt  funded_amnt  funded_amnt_inv  \\\n",
              "0        1077501    1296599     5000.0       5000.0           4975.0   \n",
              "1        1077430    1314167     2500.0       2500.0           2500.0   \n",
              "2        1077175    1313524     2400.0       2400.0           2400.0   \n",
              "3        1076863    1277178    10000.0      10000.0          10000.0   \n",
              "4        1075358    1311748     3000.0       3000.0           3000.0   \n",
              "...          ...        ...        ...          ...              ...   \n",
              "887374  36371250   39102635    10000.0      10000.0          10000.0   \n",
              "887375  36441262   39152692    24000.0      24000.0          24000.0   \n",
              "887376  36271333   38982739    13000.0      13000.0          13000.0   \n",
              "887377  36490806   39222577    12000.0      12000.0          12000.0   \n",
              "887378  36271262   38982659    20000.0      20000.0          20000.0   \n",
              "\n",
              "              term  int_rate  installment grade sub_grade  ... total_bal_il  \\\n",
              "0        36 months     10.65       162.87     B        B2  ...          NaN   \n",
              "1        60 months     15.27        59.83     C        C4  ...          NaN   \n",
              "2        36 months     15.96        84.33     C        C5  ...          NaN   \n",
              "3        36 months     13.49       339.31     C        C1  ...          NaN   \n",
              "4        60 months     12.69        67.79     B        B5  ...          NaN   \n",
              "...            ...       ...          ...   ...       ...  ...          ...   \n",
              "887374   36 months     11.99       332.10     B        B5  ...          NaN   \n",
              "887375   36 months     11.99       797.03     B        B5  ...          NaN   \n",
              "887376   60 months     15.99       316.07     D        D2  ...          NaN   \n",
              "887377   60 months     19.99       317.86     E        E3  ...          NaN   \n",
              "887378   36 months     11.99       664.20     B        B5  ...          NaN   \n",
              "\n",
              "       il_util open_rv_12m  open_rv_24m max_bal_bc all_util total_rev_hi_lim  \\\n",
              "0          NaN         NaN          NaN        NaN      NaN              NaN   \n",
              "1          NaN         NaN          NaN        NaN      NaN              NaN   \n",
              "2          NaN         NaN          NaN        NaN      NaN              NaN   \n",
              "3          NaN         NaN          NaN        NaN      NaN              NaN   \n",
              "4          NaN         NaN          NaN        NaN      NaN              NaN   \n",
              "...        ...         ...          ...        ...      ...              ...   \n",
              "887374     NaN         NaN          NaN        NaN      NaN          17100.0   \n",
              "887375     NaN         NaN          NaN        NaN      NaN          10200.0   \n",
              "887376     NaN         NaN          NaN        NaN      NaN          18000.0   \n",
              "887377     NaN         NaN          NaN        NaN      NaN          27000.0   \n",
              "887378     NaN         NaN          NaN        NaN      NaN          41700.0   \n",
              "\n",
              "       inq_fi total_cu_tl inq_last_12m  \n",
              "0         NaN         NaN          NaN  \n",
              "1         NaN         NaN          NaN  \n",
              "2         NaN         NaN          NaN  \n",
              "3         NaN         NaN          NaN  \n",
              "4         NaN         NaN          NaN  \n",
              "...       ...         ...          ...  \n",
              "887374    NaN         NaN          NaN  \n",
              "887375    NaN         NaN          NaN  \n",
              "887376    NaN         NaN          NaN  \n",
              "887377    NaN         NaN          NaN  \n",
              "887378    NaN         NaN          NaN  \n",
              "\n",
              "[887379 rows x 74 columns]"
            ]
          },
          "execution_count": 2,
          "metadata": {},
          "output_type": "execute_result"
        }
      ],
      "source": [
        "%pylab inline\n",
        "import os\n",
        "import pandas as pd\n",
        "#Map to Google Drive\n",
        "import os\n",
        "from google.colab import drive\n",
        "drive.mount('/content/drive')\n",
        "os.chdir(\"/content/drive/MyDrive/Colab Notebooks\")\n",
        "\n",
        "# Read in the three CSV files into separate dataframes\n",
        "loan = pd.read_csv('loan.csv')\n",
        "loan"
      ]
    },
    {
      "cell_type": "code",
      "execution_count": null,
      "metadata": {
        "id": "mvYzrUbnA_n4"
      },
      "outputs": [],
      "source": [
        "#loan.dropna(axis =1)"
      ]
    },
    {
      "cell_type": "code",
      "execution_count": null,
      "metadata": {
        "colab": {
          "base_uri": "https://localhost:8080/"
        },
        "id": "rYZTzx0t_Z8R",
        "outputId": "d086198e-016a-4670-9224-a914ae2a2b0c"
      },
      "outputs": [
        {
          "data": {
            "text/plain": [
              "array(['Fully Paid', 'Charged Off', 'Current', 'Default',\n",
              "       'Late (31-120 days)', 'In Grace Period', 'Late (16-30 days)',\n",
              "       'Does not meet the credit policy. Status:Fully Paid',\n",
              "       'Does not meet the credit policy. Status:Charged Off', 'Issued'],\n",
              "      dtype=object)"
            ]
          },
          "execution_count": 4,
          "metadata": {},
          "output_type": "execute_result"
        }
      ],
      "source": [
        "loan['loan_status'].unique()"
      ]
    },
    {
      "cell_type": "markdown",
      "metadata": {
        "id": "yKTB6V3mC_3F"
      },
      "source": [
        "'Fully Paid', - 1\n",
        "'Charged Off', - 0\n",
        "'Current', - 1\n",
        "'Default', - 0\n",
        "'Late (31-120 days)', - 0\n",
        "'In Grace Period', - 0\n",
        "'Late (16-30 days)', - 1\n",
        "'Does not meet the credit policy. Status:Fully Paid', - 1\n",
        "'Does not meet the credit policy. Status:Charged Off', -0\n",
        "'Issued' - 0"
      ]
    },
    {
      "cell_type": "code",
      "execution_count": null,
      "metadata": {
        "colab": {
          "base_uri": "https://localhost:8080/"
        },
        "id": "xlkb_wCSjk2P",
        "outputId": "59d17161-485c-4bb5-ee58-0d7379442d71"
      },
      "outputs": [
        {
          "name": "stdout",
          "output_type": "stream",
          "text": [
            "The percentage of missing values in the dataframe is: 27.41%\n"
          ]
        }
      ],
      "source": [
        "\n",
        "total_missing = loan.isnull().sum().sum()\n",
        "total_cells = loan.size\n",
        "\n",
        "percent_missing = (total_missing / total_cells) * 100\n",
        "print(f\"The percentage of missing values in the dataframe is: {percent_missing:.2f}%\")"
      ]
    },
    {
      "cell_type": "code",
      "execution_count": null,
      "metadata": {
        "colab": {
          "base_uri": "https://localhost:8080/"
        },
        "id": "IS2S3mRVoeWL",
        "outputId": "c1cccace-0173-4d08-e55d-57c6f49b617e"
      },
      "outputs": [
        {
          "data": {
            "text/plain": [
              "Index(['id', 'member_id', 'loan_amnt', 'funded_amnt', 'funded_amnt_inv',\n",
              "       'term', 'int_rate', 'installment', 'grade', 'sub_grade', 'emp_title',\n",
              "       'emp_length', 'home_ownership', 'annual_inc', 'verification_status',\n",
              "       'issue_d', 'loan_status', 'pymnt_plan', 'url', 'desc', 'purpose',\n",
              "       'title', 'zip_code', 'addr_state', 'dti', 'delinq_2yrs',\n",
              "       'earliest_cr_line', 'inq_last_6mths', 'mths_since_last_delinq',\n",
              "       'mths_since_last_record', 'open_acc', 'pub_rec', 'revol_bal',\n",
              "       'revol_util', 'total_acc', 'initial_list_status', 'out_prncp',\n",
              "       'out_prncp_inv', 'total_pymnt', 'total_pymnt_inv', 'total_rec_prncp',\n",
              "       'total_rec_int', 'total_rec_late_fee', 'recoveries',\n",
              "       'collection_recovery_fee', 'last_pymnt_d', 'last_pymnt_amnt',\n",
              "       'next_pymnt_d', 'last_credit_pull_d', 'collections_12_mths_ex_med',\n",
              "       'mths_since_last_major_derog', 'policy_code', 'application_type',\n",
              "       'annual_inc_joint', 'dti_joint', 'verification_status_joint',\n",
              "       'acc_now_delinq', 'tot_coll_amt', 'tot_cur_bal', 'open_acc_6m',\n",
              "       'open_il_6m', 'open_il_12m', 'open_il_24m', 'mths_since_rcnt_il',\n",
              "       'total_bal_il', 'il_util', 'open_rv_12m', 'open_rv_24m', 'max_bal_bc',\n",
              "       'all_util', 'total_rev_hi_lim', 'inq_fi', 'total_cu_tl',\n",
              "       'inq_last_12m'],\n",
              "      dtype='object')"
            ]
          },
          "execution_count": 6,
          "metadata": {},
          "output_type": "execute_result"
        }
      ],
      "source": [
        "loan.columns\n"
      ]
    },
    {
      "cell_type": "markdown",
      "metadata": {
        "id": "YF0OJNixvQm-"
      },
      "source": [
        "#### **Features with Impact on Loan Status: Shortlisted Variables**\n",
        "\n",
        "Below are the selected features based on the their financial relevance for a laon account. We believe this feature set brings out the best representation to determine Good and Bad loans."
      ]
    },
    {
      "cell_type": "markdown",
      "metadata": {
        "id": "owct2iVyuaUt"
      },
      "source": [
        "* loan_amnt: The amount of the loan requested by the borrower.\n",
        "term: The duration of the loan, typically expressed in months.\n",
        "* int_rate: The interest rate assigned to the loan.\n",
        "installment: The monthly payment amount.\n",
        "* grade: The loan grade assigned by the lending institution based on the borrower's creditworthiness.\n",
        "* emp_length: The length of employment of the borrower.\n",
        "* home_ownership: The type of home ownership of the borrower.\n",
        "* annual_inc: The annual income of the borrower.\n",
        "* verification_status: Indicates whether the borrower's income has been verified by the lending institution.\n",
        "* dti: The debt-to-income ratio of the borrower.\n",
        "delinq_2yrs: The number of delinquencies on the borrower's credit report in the past two years.\n",
        "* open_acc: The number of open credit lines in the borrower's credit profile.\n",
        "* pub_rec: The number of derogatory public records on the borrower's credit report.\n",
        "* revol_bal: The total revolving balance (credit card debt) of the borrower.\n",
        "* total_acc: The total number of credit lines in the borrower's credit profile.\n",
        "* initial_list_status: The initial listing status of the loan.\n",
        "* total_pymnt: The total payment received so far for the loan.\n",
        "* last_pymnt_d: The date of the borrower's last payment.\n",
        "* collections_12_mths_ex_med: The number of collections in the borrower's credit profile excluding medical collections.\n",
        "* inq_last_12m: The number of credit inquiries in the last 12 months.\n",
        "\n",
        "\n",
        "\n",
        "\n"
      ]
    },
    {
      "cell_type": "code",
      "execution_count": null,
      "metadata": {
        "id": "bXqSwDUI09-p"
      },
      "outputs": [],
      "source": [
        "loan_selected = loan[['loan_amnt','int_rate','grade','emp_length','home_ownership','annual_inc','verification_status','dti','open_acc','pub_rec','revol_bal','total_acc','initial_list_status','total_pymnt','last_pymnt_d','collections_12_mths_ex_med','inq_last_12m','loan_status']]"
      ]
    },
    {
      "cell_type": "code",
      "execution_count": null,
      "metadata": {
        "colab": {
          "base_uri": "https://localhost:8080/",
          "height": 270
        },
        "id": "POgkZuI93ceJ",
        "outputId": "07b3fdac-1535-457a-dc73-9c8b251ea93f"
      },
      "outputs": [
        {
          "data": {
            "text/html": [
              "\n",
              "  <div id=\"df-d1130521-a5fb-4dd5-bc70-689ea9e4af13\">\n",
              "    <div class=\"colab-df-container\">\n",
              "      <div>\n",
              "<style scoped>\n",
              "    .dataframe tbody tr th:only-of-type {\n",
              "        vertical-align: middle;\n",
              "    }\n",
              "\n",
              "    .dataframe tbody tr th {\n",
              "        vertical-align: top;\n",
              "    }\n",
              "\n",
              "    .dataframe thead th {\n",
              "        text-align: right;\n",
              "    }\n",
              "</style>\n",
              "<table border=\"1\" class=\"dataframe\">\n",
              "  <thead>\n",
              "    <tr style=\"text-align: right;\">\n",
              "      <th></th>\n",
              "      <th>loan_amnt</th>\n",
              "      <th>int_rate</th>\n",
              "      <th>grade</th>\n",
              "      <th>emp_length</th>\n",
              "      <th>home_ownership</th>\n",
              "      <th>annual_inc</th>\n",
              "      <th>verification_status</th>\n",
              "      <th>dti</th>\n",
              "      <th>open_acc</th>\n",
              "      <th>pub_rec</th>\n",
              "      <th>revol_bal</th>\n",
              "      <th>total_acc</th>\n",
              "      <th>initial_list_status</th>\n",
              "      <th>total_pymnt</th>\n",
              "      <th>last_pymnt_d</th>\n",
              "      <th>collections_12_mths_ex_med</th>\n",
              "      <th>inq_last_12m</th>\n",
              "      <th>loan_status</th>\n",
              "    </tr>\n",
              "  </thead>\n",
              "  <tbody>\n",
              "    <tr>\n",
              "      <th>0</th>\n",
              "      <td>5000.0</td>\n",
              "      <td>10.65</td>\n",
              "      <td>B</td>\n",
              "      <td>10+ years</td>\n",
              "      <td>RENT</td>\n",
              "      <td>24000.0</td>\n",
              "      <td>Verified</td>\n",
              "      <td>27.65</td>\n",
              "      <td>3.0</td>\n",
              "      <td>0.0</td>\n",
              "      <td>13648.0</td>\n",
              "      <td>9.0</td>\n",
              "      <td>f</td>\n",
              "      <td>5861.071414</td>\n",
              "      <td>Jan-2015</td>\n",
              "      <td>0.0</td>\n",
              "      <td>NaN</td>\n",
              "      <td>Fully Paid</td>\n",
              "    </tr>\n",
              "    <tr>\n",
              "      <th>1</th>\n",
              "      <td>2500.0</td>\n",
              "      <td>15.27</td>\n",
              "      <td>C</td>\n",
              "      <td>&lt; 1 year</td>\n",
              "      <td>RENT</td>\n",
              "      <td>30000.0</td>\n",
              "      <td>Source Verified</td>\n",
              "      <td>1.00</td>\n",
              "      <td>3.0</td>\n",
              "      <td>0.0</td>\n",
              "      <td>1687.0</td>\n",
              "      <td>4.0</td>\n",
              "      <td>f</td>\n",
              "      <td>1008.710000</td>\n",
              "      <td>Apr-2013</td>\n",
              "      <td>0.0</td>\n",
              "      <td>NaN</td>\n",
              "      <td>Charged Off</td>\n",
              "    </tr>\n",
              "    <tr>\n",
              "      <th>2</th>\n",
              "      <td>2400.0</td>\n",
              "      <td>15.96</td>\n",
              "      <td>C</td>\n",
              "      <td>10+ years</td>\n",
              "      <td>RENT</td>\n",
              "      <td>12252.0</td>\n",
              "      <td>Not Verified</td>\n",
              "      <td>8.72</td>\n",
              "      <td>2.0</td>\n",
              "      <td>0.0</td>\n",
              "      <td>2956.0</td>\n",
              "      <td>10.0</td>\n",
              "      <td>f</td>\n",
              "      <td>3003.653644</td>\n",
              "      <td>Jun-2014</td>\n",
              "      <td>0.0</td>\n",
              "      <td>NaN</td>\n",
              "      <td>Fully Paid</td>\n",
              "    </tr>\n",
              "    <tr>\n",
              "      <th>3</th>\n",
              "      <td>10000.0</td>\n",
              "      <td>13.49</td>\n",
              "      <td>C</td>\n",
              "      <td>10+ years</td>\n",
              "      <td>RENT</td>\n",
              "      <td>49200.0</td>\n",
              "      <td>Source Verified</td>\n",
              "      <td>20.00</td>\n",
              "      <td>10.0</td>\n",
              "      <td>0.0</td>\n",
              "      <td>5598.0</td>\n",
              "      <td>37.0</td>\n",
              "      <td>f</td>\n",
              "      <td>12226.302212</td>\n",
              "      <td>Jan-2015</td>\n",
              "      <td>0.0</td>\n",
              "      <td>NaN</td>\n",
              "      <td>Fully Paid</td>\n",
              "    </tr>\n",
              "    <tr>\n",
              "      <th>4</th>\n",
              "      <td>3000.0</td>\n",
              "      <td>12.69</td>\n",
              "      <td>B</td>\n",
              "      <td>1 year</td>\n",
              "      <td>RENT</td>\n",
              "      <td>80000.0</td>\n",
              "      <td>Source Verified</td>\n",
              "      <td>17.94</td>\n",
              "      <td>15.0</td>\n",
              "      <td>0.0</td>\n",
              "      <td>27783.0</td>\n",
              "      <td>38.0</td>\n",
              "      <td>f</td>\n",
              "      <td>3242.170000</td>\n",
              "      <td>Jan-2016</td>\n",
              "      <td>0.0</td>\n",
              "      <td>NaN</td>\n",
              "      <td>Current</td>\n",
              "    </tr>\n",
              "  </tbody>\n",
              "</table>\n",
              "</div>\n",
              "      <button class=\"colab-df-convert\" onclick=\"convertToInteractive('df-d1130521-a5fb-4dd5-bc70-689ea9e4af13')\"\n",
              "              title=\"Convert this dataframe to an interactive table.\"\n",
              "              style=\"display:none;\">\n",
              "        \n",
              "  <svg xmlns=\"http://www.w3.org/2000/svg\" height=\"24px\"viewBox=\"0 0 24 24\"\n",
              "       width=\"24px\">\n",
              "    <path d=\"M0 0h24v24H0V0z\" fill=\"none\"/>\n",
              "    <path d=\"M18.56 5.44l.94 2.06.94-2.06 2.06-.94-2.06-.94-.94-2.06-.94 2.06-2.06.94zm-11 1L8.5 8.5l.94-2.06 2.06-.94-2.06-.94L8.5 2.5l-.94 2.06-2.06.94zm10 10l.94 2.06.94-2.06 2.06-.94-2.06-.94-.94-2.06-.94 2.06-2.06.94z\"/><path d=\"M17.41 7.96l-1.37-1.37c-.4-.4-.92-.59-1.43-.59-.52 0-1.04.2-1.43.59L10.3 9.45l-7.72 7.72c-.78.78-.78 2.05 0 2.83L4 21.41c.39.39.9.59 1.41.59.51 0 1.02-.2 1.41-.59l7.78-7.78 2.81-2.81c.8-.78.8-2.07 0-2.86zM5.41 20L4 18.59l7.72-7.72 1.47 1.35L5.41 20z\"/>\n",
              "  </svg>\n",
              "      </button>\n",
              "      \n",
              "  <style>\n",
              "    .colab-df-container {\n",
              "      display:flex;\n",
              "      flex-wrap:wrap;\n",
              "      gap: 12px;\n",
              "    }\n",
              "\n",
              "    .colab-df-convert {\n",
              "      background-color: #E8F0FE;\n",
              "      border: none;\n",
              "      border-radius: 50%;\n",
              "      cursor: pointer;\n",
              "      display: none;\n",
              "      fill: #1967D2;\n",
              "      height: 32px;\n",
              "      padding: 0 0 0 0;\n",
              "      width: 32px;\n",
              "    }\n",
              "\n",
              "    .colab-df-convert:hover {\n",
              "      background-color: #E2EBFA;\n",
              "      box-shadow: 0px 1px 2px rgba(60, 64, 67, 0.3), 0px 1px 3px 1px rgba(60, 64, 67, 0.15);\n",
              "      fill: #174EA6;\n",
              "    }\n",
              "\n",
              "    [theme=dark] .colab-df-convert {\n",
              "      background-color: #3B4455;\n",
              "      fill: #D2E3FC;\n",
              "    }\n",
              "\n",
              "    [theme=dark] .colab-df-convert:hover {\n",
              "      background-color: #434B5C;\n",
              "      box-shadow: 0px 1px 3px 1px rgba(0, 0, 0, 0.15);\n",
              "      filter: drop-shadow(0px 1px 2px rgba(0, 0, 0, 0.3));\n",
              "      fill: #FFFFFF;\n",
              "    }\n",
              "  </style>\n",
              "\n",
              "      <script>\n",
              "        const buttonEl =\n",
              "          document.querySelector('#df-d1130521-a5fb-4dd5-bc70-689ea9e4af13 button.colab-df-convert');\n",
              "        buttonEl.style.display =\n",
              "          google.colab.kernel.accessAllowed ? 'block' : 'none';\n",
              "\n",
              "        async function convertToInteractive(key) {\n",
              "          const element = document.querySelector('#df-d1130521-a5fb-4dd5-bc70-689ea9e4af13');\n",
              "          const dataTable =\n",
              "            await google.colab.kernel.invokeFunction('convertToInteractive',\n",
              "                                                     [key], {});\n",
              "          if (!dataTable) return;\n",
              "\n",
              "          const docLinkHtml = 'Like what you see? Visit the ' +\n",
              "            '<a target=\"_blank\" href=https://colab.research.google.com/notebooks/data_table.ipynb>data table notebook</a>'\n",
              "            + ' to learn more about interactive tables.';\n",
              "          element.innerHTML = '';\n",
              "          dataTable['output_type'] = 'display_data';\n",
              "          await google.colab.output.renderOutput(dataTable, element);\n",
              "          const docLink = document.createElement('div');\n",
              "          docLink.innerHTML = docLinkHtml;\n",
              "          element.appendChild(docLink);\n",
              "        }\n",
              "      </script>\n",
              "    </div>\n",
              "  </div>\n",
              "  "
            ],
            "text/plain": [
              "   loan_amnt  int_rate grade emp_length home_ownership  annual_inc  \\\n",
              "0     5000.0     10.65     B  10+ years           RENT     24000.0   \n",
              "1     2500.0     15.27     C   < 1 year           RENT     30000.0   \n",
              "2     2400.0     15.96     C  10+ years           RENT     12252.0   \n",
              "3    10000.0     13.49     C  10+ years           RENT     49200.0   \n",
              "4     3000.0     12.69     B     1 year           RENT     80000.0   \n",
              "\n",
              "  verification_status    dti  open_acc  pub_rec  revol_bal  total_acc  \\\n",
              "0            Verified  27.65       3.0      0.0    13648.0        9.0   \n",
              "1     Source Verified   1.00       3.0      0.0     1687.0        4.0   \n",
              "2        Not Verified   8.72       2.0      0.0     2956.0       10.0   \n",
              "3     Source Verified  20.00      10.0      0.0     5598.0       37.0   \n",
              "4     Source Verified  17.94      15.0      0.0    27783.0       38.0   \n",
              "\n",
              "  initial_list_status   total_pymnt last_pymnt_d  collections_12_mths_ex_med  \\\n",
              "0                   f   5861.071414     Jan-2015                         0.0   \n",
              "1                   f   1008.710000     Apr-2013                         0.0   \n",
              "2                   f   3003.653644     Jun-2014                         0.0   \n",
              "3                   f  12226.302212     Jan-2015                         0.0   \n",
              "4                   f   3242.170000     Jan-2016                         0.0   \n",
              "\n",
              "   inq_last_12m  loan_status  \n",
              "0           NaN   Fully Paid  \n",
              "1           NaN  Charged Off  \n",
              "2           NaN   Fully Paid  \n",
              "3           NaN   Fully Paid  \n",
              "4           NaN      Current  "
            ]
          },
          "execution_count": 8,
          "metadata": {},
          "output_type": "execute_result"
        }
      ],
      "source": [
        "loan_selected.head()"
      ]
    },
    {
      "cell_type": "code",
      "execution_count": null,
      "metadata": {
        "id": "1i8yS_tN2lwH"
      },
      "outputs": [],
      "source": []
    },
    {
      "cell_type": "code",
      "execution_count": null,
      "metadata": {
        "id": "vBBCV3x_j7nT"
      },
      "outputs": [],
      "source": [
        "total_records = len(loan_selected)"
      ]
    },
    {
      "cell_type": "code",
      "execution_count": null,
      "metadata": {
        "id": "AlzoQaIMkacc"
      },
      "outputs": [],
      "source": [
        "categories = loan_selected['loan_status'].unique()"
      ]
    },
    {
      "cell_type": "code",
      "execution_count": null,
      "metadata": {
        "colab": {
          "base_uri": "https://localhost:8080/"
        },
        "id": "N4hVBgw_k7wx",
        "outputId": "48ba3dd0-beb3-42ec-8711-7d04f2d1d13e"
      },
      "outputs": [
        {
          "name": "stdout",
          "output_type": "stream",
          "text": [
            "Category 'Fully Paid': 207723 out of 887379 records\n",
            "Category 'Charged Off': 45248 out of 887379 records\n",
            "Category 'Current': 601779 out of 887379 records\n",
            "Category 'Default': 1219 out of 887379 records\n",
            "Category 'Late (31-120 days)': 11591 out of 887379 records\n",
            "Category 'In Grace Period': 6253 out of 887379 records\n",
            "Category 'Late (16-30 days)': 2357 out of 887379 records\n",
            "Category 'Does not meet the credit policy. Status:Fully Paid': 1988 out of 887379 records\n",
            "Category 'Does not meet the credit policy. Status:Charged Off': 761 out of 887379 records\n",
            "Category 'Issued': 8460 out of 887379 records\n"
          ]
        }
      ],
      "source": [
        "for category in categories:\n",
        "  category_record = len(loan_selected[loan_selected['loan_status']==category])\n",
        "  print(f\"Category '{category}': {category_record} out of {total_records} records\")"
      ]
    },
    {
      "cell_type": "code",
      "execution_count": null,
      "metadata": {
        "id": "aS4GNZp8rJzS"
      },
      "outputs": [],
      "source": [
        "loan_selected = loan_selected.drop(loan_selected[loan_selected['loan_status']=='Does not meet the credit policy. Status:Charged Off'].index)\n",
        "loan_selected = loan_selected.reset_index(drop=True)"
      ]
    },
    {
      "cell_type": "code",
      "execution_count": null,
      "metadata": {
        "colab": {
          "base_uri": "https://localhost:8080/"
        },
        "id": "p3CY8ZfIzDkF",
        "outputId": "057cf19f-e036-4210-abd2-bc8e4cff2e80"
      },
      "outputs": [
        {
          "name": "stdout",
          "output_type": "stream",
          "text": [
            "Category 'Fully Paid': 207723 out of 887379 records\n",
            "Category 'Charged Off': 45248 out of 887379 records\n",
            "Category 'Current': 601779 out of 887379 records\n",
            "Category 'Default': 1219 out of 887379 records\n",
            "Category 'Late (31-120 days)': 11591 out of 887379 records\n",
            "Category 'In Grace Period': 6253 out of 887379 records\n",
            "Category 'Late (16-30 days)': 2357 out of 887379 records\n",
            "Category 'Does not meet the credit policy. Status:Fully Paid': 1988 out of 887379 records\n",
            "Category 'Does not meet the credit policy. Status:Charged Off': 0 out of 887379 records\n",
            "Category 'Issued': 8460 out of 887379 records\n"
          ]
        }
      ],
      "source": [
        "for category in categories:\n",
        "  category_record = len(loan_selected[loan_selected['loan_status']==category])\n",
        "  print(f\"Category '{category}': {category_record} out of {total_records} records\")"
      ]
    },
    {
      "cell_type": "code",
      "execution_count": null,
      "metadata": {
        "colab": {
          "base_uri": "https://localhost:8080/"
        },
        "id": "0YQflBF50884",
        "outputId": "e4ff2063-8c8a-4220-d0a3-50f597bbfb4e"
      },
      "outputs": [
        {
          "name": "stdout",
          "output_type": "stream",
          "text": [
            "Current                                               601779\n",
            "Fully Paid                                            207723\n",
            "Charged Off                                            45248\n",
            "Late (31-120 days)                                     11591\n",
            "Issued                                                  8460\n",
            "In Grace Period                                         6253\n",
            "Late (16-30 days)                                       2357\n",
            "Does not meet the credit policy. Status:Fully Paid      1988\n",
            "Default                                                 1219\n",
            "Name: loan_status, dtype: int64\n"
          ]
        }
      ],
      "source": [
        "print(loan_selected['loan_status'].value_counts())"
      ]
    },
    {
      "cell_type": "markdown",
      "metadata": {
        "id": "K9-PddjzKOg8"
      },
      "source": [
        "'Fully Paid', - 1 'Charged Off', - 0 'Current', - 1 'Default', - 0 'Late (31-120 days)', - 0 'In Grace Period', - 0 'Late (16-30 days)', - 1 'Does not meet the credit policy. Status:Fully Paid', - 1 'Does not meet the credit policy. Status:Charged Off', -0 'Issued' - 1"
      ]
    },
    {
      "cell_type": "code",
      "execution_count": null,
      "metadata": {
        "id": "l1Pa-WefPalu"
      },
      "outputs": [],
      "source": [
        "loan_selected = loan_selected.copy()\n",
        "loan_selected['loan_creditworthiness'] = loan_selected['loan_status'].replace({\n",
        "    'Fully Paid': 1,\n",
        "    'Charged Off': 0,\n",
        "    'Current': 1,\n",
        "    'Default': 0,\n",
        "    'Late (31-120 days)': 0,\n",
        "    'In Grace Period': 1,\n",
        "    'Late (16-30 days)': 1,\n",
        "    'Does not meet the credit policy. Status:Fully Paid': 1,\n",
        "    \n",
        "    'Issued': 1\n",
        "})"
      ]
    },
    {
      "cell_type": "code",
      "execution_count": null,
      "metadata": {
        "colab": {
          "base_uri": "https://localhost:8080/",
          "height": 270
        },
        "id": "-r19wn61TiCl",
        "outputId": "dd9cb82f-3c33-4397-b54b-fcdf0ec12745"
      },
      "outputs": [
        {
          "data": {
            "text/html": [
              "\n",
              "  <div id=\"df-5fca2fce-24f9-495d-a8ea-a50747644805\">\n",
              "    <div class=\"colab-df-container\">\n",
              "      <div>\n",
              "<style scoped>\n",
              "    .dataframe tbody tr th:only-of-type {\n",
              "        vertical-align: middle;\n",
              "    }\n",
              "\n",
              "    .dataframe tbody tr th {\n",
              "        vertical-align: top;\n",
              "    }\n",
              "\n",
              "    .dataframe thead th {\n",
              "        text-align: right;\n",
              "    }\n",
              "</style>\n",
              "<table border=\"1\" class=\"dataframe\">\n",
              "  <thead>\n",
              "    <tr style=\"text-align: right;\">\n",
              "      <th></th>\n",
              "      <th>loan_amnt</th>\n",
              "      <th>int_rate</th>\n",
              "      <th>grade</th>\n",
              "      <th>emp_length</th>\n",
              "      <th>home_ownership</th>\n",
              "      <th>annual_inc</th>\n",
              "      <th>verification_status</th>\n",
              "      <th>dti</th>\n",
              "      <th>open_acc</th>\n",
              "      <th>pub_rec</th>\n",
              "      <th>revol_bal</th>\n",
              "      <th>total_acc</th>\n",
              "      <th>initial_list_status</th>\n",
              "      <th>total_pymnt</th>\n",
              "      <th>last_pymnt_d</th>\n",
              "      <th>collections_12_mths_ex_med</th>\n",
              "      <th>inq_last_12m</th>\n",
              "      <th>loan_status</th>\n",
              "      <th>loan_creditworthiness</th>\n",
              "    </tr>\n",
              "  </thead>\n",
              "  <tbody>\n",
              "    <tr>\n",
              "      <th>0</th>\n",
              "      <td>5000.0</td>\n",
              "      <td>10.65</td>\n",
              "      <td>B</td>\n",
              "      <td>10+ years</td>\n",
              "      <td>RENT</td>\n",
              "      <td>24000.0</td>\n",
              "      <td>Verified</td>\n",
              "      <td>27.65</td>\n",
              "      <td>3.0</td>\n",
              "      <td>0.0</td>\n",
              "      <td>13648.0</td>\n",
              "      <td>9.0</td>\n",
              "      <td>f</td>\n",
              "      <td>5861.071414</td>\n",
              "      <td>Jan-2015</td>\n",
              "      <td>0.0</td>\n",
              "      <td>NaN</td>\n",
              "      <td>Fully Paid</td>\n",
              "      <td>1</td>\n",
              "    </tr>\n",
              "    <tr>\n",
              "      <th>1</th>\n",
              "      <td>2500.0</td>\n",
              "      <td>15.27</td>\n",
              "      <td>C</td>\n",
              "      <td>&lt; 1 year</td>\n",
              "      <td>RENT</td>\n",
              "      <td>30000.0</td>\n",
              "      <td>Source Verified</td>\n",
              "      <td>1.00</td>\n",
              "      <td>3.0</td>\n",
              "      <td>0.0</td>\n",
              "      <td>1687.0</td>\n",
              "      <td>4.0</td>\n",
              "      <td>f</td>\n",
              "      <td>1008.710000</td>\n",
              "      <td>Apr-2013</td>\n",
              "      <td>0.0</td>\n",
              "      <td>NaN</td>\n",
              "      <td>Charged Off</td>\n",
              "      <td>0</td>\n",
              "    </tr>\n",
              "    <tr>\n",
              "      <th>2</th>\n",
              "      <td>2400.0</td>\n",
              "      <td>15.96</td>\n",
              "      <td>C</td>\n",
              "      <td>10+ years</td>\n",
              "      <td>RENT</td>\n",
              "      <td>12252.0</td>\n",
              "      <td>Not Verified</td>\n",
              "      <td>8.72</td>\n",
              "      <td>2.0</td>\n",
              "      <td>0.0</td>\n",
              "      <td>2956.0</td>\n",
              "      <td>10.0</td>\n",
              "      <td>f</td>\n",
              "      <td>3003.653644</td>\n",
              "      <td>Jun-2014</td>\n",
              "      <td>0.0</td>\n",
              "      <td>NaN</td>\n",
              "      <td>Fully Paid</td>\n",
              "      <td>1</td>\n",
              "    </tr>\n",
              "    <tr>\n",
              "      <th>3</th>\n",
              "      <td>10000.0</td>\n",
              "      <td>13.49</td>\n",
              "      <td>C</td>\n",
              "      <td>10+ years</td>\n",
              "      <td>RENT</td>\n",
              "      <td>49200.0</td>\n",
              "      <td>Source Verified</td>\n",
              "      <td>20.00</td>\n",
              "      <td>10.0</td>\n",
              "      <td>0.0</td>\n",
              "      <td>5598.0</td>\n",
              "      <td>37.0</td>\n",
              "      <td>f</td>\n",
              "      <td>12226.302212</td>\n",
              "      <td>Jan-2015</td>\n",
              "      <td>0.0</td>\n",
              "      <td>NaN</td>\n",
              "      <td>Fully Paid</td>\n",
              "      <td>1</td>\n",
              "    </tr>\n",
              "    <tr>\n",
              "      <th>4</th>\n",
              "      <td>3000.0</td>\n",
              "      <td>12.69</td>\n",
              "      <td>B</td>\n",
              "      <td>1 year</td>\n",
              "      <td>RENT</td>\n",
              "      <td>80000.0</td>\n",
              "      <td>Source Verified</td>\n",
              "      <td>17.94</td>\n",
              "      <td>15.0</td>\n",
              "      <td>0.0</td>\n",
              "      <td>27783.0</td>\n",
              "      <td>38.0</td>\n",
              "      <td>f</td>\n",
              "      <td>3242.170000</td>\n",
              "      <td>Jan-2016</td>\n",
              "      <td>0.0</td>\n",
              "      <td>NaN</td>\n",
              "      <td>Current</td>\n",
              "      <td>1</td>\n",
              "    </tr>\n",
              "  </tbody>\n",
              "</table>\n",
              "</div>\n",
              "      <button class=\"colab-df-convert\" onclick=\"convertToInteractive('df-5fca2fce-24f9-495d-a8ea-a50747644805')\"\n",
              "              title=\"Convert this dataframe to an interactive table.\"\n",
              "              style=\"display:none;\">\n",
              "        \n",
              "  <svg xmlns=\"http://www.w3.org/2000/svg\" height=\"24px\"viewBox=\"0 0 24 24\"\n",
              "       width=\"24px\">\n",
              "    <path d=\"M0 0h24v24H0V0z\" fill=\"none\"/>\n",
              "    <path d=\"M18.56 5.44l.94 2.06.94-2.06 2.06-.94-2.06-.94-.94-2.06-.94 2.06-2.06.94zm-11 1L8.5 8.5l.94-2.06 2.06-.94-2.06-.94L8.5 2.5l-.94 2.06-2.06.94zm10 10l.94 2.06.94-2.06 2.06-.94-2.06-.94-.94-2.06-.94 2.06-2.06.94z\"/><path d=\"M17.41 7.96l-1.37-1.37c-.4-.4-.92-.59-1.43-.59-.52 0-1.04.2-1.43.59L10.3 9.45l-7.72 7.72c-.78.78-.78 2.05 0 2.83L4 21.41c.39.39.9.59 1.41.59.51 0 1.02-.2 1.41-.59l7.78-7.78 2.81-2.81c.8-.78.8-2.07 0-2.86zM5.41 20L4 18.59l7.72-7.72 1.47 1.35L5.41 20z\"/>\n",
              "  </svg>\n",
              "      </button>\n",
              "      \n",
              "  <style>\n",
              "    .colab-df-container {\n",
              "      display:flex;\n",
              "      flex-wrap:wrap;\n",
              "      gap: 12px;\n",
              "    }\n",
              "\n",
              "    .colab-df-convert {\n",
              "      background-color: #E8F0FE;\n",
              "      border: none;\n",
              "      border-radius: 50%;\n",
              "      cursor: pointer;\n",
              "      display: none;\n",
              "      fill: #1967D2;\n",
              "      height: 32px;\n",
              "      padding: 0 0 0 0;\n",
              "      width: 32px;\n",
              "    }\n",
              "\n",
              "    .colab-df-convert:hover {\n",
              "      background-color: #E2EBFA;\n",
              "      box-shadow: 0px 1px 2px rgba(60, 64, 67, 0.3), 0px 1px 3px 1px rgba(60, 64, 67, 0.15);\n",
              "      fill: #174EA6;\n",
              "    }\n",
              "\n",
              "    [theme=dark] .colab-df-convert {\n",
              "      background-color: #3B4455;\n",
              "      fill: #D2E3FC;\n",
              "    }\n",
              "\n",
              "    [theme=dark] .colab-df-convert:hover {\n",
              "      background-color: #434B5C;\n",
              "      box-shadow: 0px 1px 3px 1px rgba(0, 0, 0, 0.15);\n",
              "      filter: drop-shadow(0px 1px 2px rgba(0, 0, 0, 0.3));\n",
              "      fill: #FFFFFF;\n",
              "    }\n",
              "  </style>\n",
              "\n",
              "      <script>\n",
              "        const buttonEl =\n",
              "          document.querySelector('#df-5fca2fce-24f9-495d-a8ea-a50747644805 button.colab-df-convert');\n",
              "        buttonEl.style.display =\n",
              "          google.colab.kernel.accessAllowed ? 'block' : 'none';\n",
              "\n",
              "        async function convertToInteractive(key) {\n",
              "          const element = document.querySelector('#df-5fca2fce-24f9-495d-a8ea-a50747644805');\n",
              "          const dataTable =\n",
              "            await google.colab.kernel.invokeFunction('convertToInteractive',\n",
              "                                                     [key], {});\n",
              "          if (!dataTable) return;\n",
              "\n",
              "          const docLinkHtml = 'Like what you see? Visit the ' +\n",
              "            '<a target=\"_blank\" href=https://colab.research.google.com/notebooks/data_table.ipynb>data table notebook</a>'\n",
              "            + ' to learn more about interactive tables.';\n",
              "          element.innerHTML = '';\n",
              "          dataTable['output_type'] = 'display_data';\n",
              "          await google.colab.output.renderOutput(dataTable, element);\n",
              "          const docLink = document.createElement('div');\n",
              "          docLink.innerHTML = docLinkHtml;\n",
              "          element.appendChild(docLink);\n",
              "        }\n",
              "      </script>\n",
              "    </div>\n",
              "  </div>\n",
              "  "
            ],
            "text/plain": [
              "   loan_amnt  int_rate grade emp_length home_ownership  annual_inc  \\\n",
              "0     5000.0     10.65     B  10+ years           RENT     24000.0   \n",
              "1     2500.0     15.27     C   < 1 year           RENT     30000.0   \n",
              "2     2400.0     15.96     C  10+ years           RENT     12252.0   \n",
              "3    10000.0     13.49     C  10+ years           RENT     49200.0   \n",
              "4     3000.0     12.69     B     1 year           RENT     80000.0   \n",
              "\n",
              "  verification_status    dti  open_acc  pub_rec  revol_bal  total_acc  \\\n",
              "0            Verified  27.65       3.0      0.0    13648.0        9.0   \n",
              "1     Source Verified   1.00       3.0      0.0     1687.0        4.0   \n",
              "2        Not Verified   8.72       2.0      0.0     2956.0       10.0   \n",
              "3     Source Verified  20.00      10.0      0.0     5598.0       37.0   \n",
              "4     Source Verified  17.94      15.0      0.0    27783.0       38.0   \n",
              "\n",
              "  initial_list_status   total_pymnt last_pymnt_d  collections_12_mths_ex_med  \\\n",
              "0                   f   5861.071414     Jan-2015                         0.0   \n",
              "1                   f   1008.710000     Apr-2013                         0.0   \n",
              "2                   f   3003.653644     Jun-2014                         0.0   \n",
              "3                   f  12226.302212     Jan-2015                         0.0   \n",
              "4                   f   3242.170000     Jan-2016                         0.0   \n",
              "\n",
              "   inq_last_12m  loan_status  loan_creditworthiness  \n",
              "0           NaN   Fully Paid                      1  \n",
              "1           NaN  Charged Off                      0  \n",
              "2           NaN   Fully Paid                      1  \n",
              "3           NaN   Fully Paid                      1  \n",
              "4           NaN      Current                      1  "
            ]
          },
          "execution_count": 16,
          "metadata": {},
          "output_type": "execute_result"
        }
      ],
      "source": [
        "loan_selected.head()"
      ]
    },
    {
      "cell_type": "markdown",
      "metadata": {
        "id": "FvtV-XmJgHbF"
      },
      "source": [
        "####Removing the column #loan_status to use derived attribute loan_creditworthiness based on good/bad loans(1/0) \n"
      ]
    },
    {
      "cell_type": "code",
      "execution_count": null,
      "metadata": {
        "id": "zVBqAaPTfu5x"
      },
      "outputs": [],
      "source": [
        "loan_selected = loan_selected.drop(['loan_status'],axis=1)"
      ]
    },
    {
      "cell_type": "code",
      "execution_count": null,
      "metadata": {
        "colab": {
          "base_uri": "https://localhost:8080/",
          "height": 270
        },
        "id": "mGNlYyasgBQW",
        "outputId": "42ab2c16-6114-468d-87e4-4bf2e0c7317f"
      },
      "outputs": [
        {
          "data": {
            "text/html": [
              "\n",
              "  <div id=\"df-d74b48c1-fcea-4d0d-bcd7-f675ad22d893\">\n",
              "    <div class=\"colab-df-container\">\n",
              "      <div>\n",
              "<style scoped>\n",
              "    .dataframe tbody tr th:only-of-type {\n",
              "        vertical-align: middle;\n",
              "    }\n",
              "\n",
              "    .dataframe tbody tr th {\n",
              "        vertical-align: top;\n",
              "    }\n",
              "\n",
              "    .dataframe thead th {\n",
              "        text-align: right;\n",
              "    }\n",
              "</style>\n",
              "<table border=\"1\" class=\"dataframe\">\n",
              "  <thead>\n",
              "    <tr style=\"text-align: right;\">\n",
              "      <th></th>\n",
              "      <th>loan_amnt</th>\n",
              "      <th>int_rate</th>\n",
              "      <th>grade</th>\n",
              "      <th>emp_length</th>\n",
              "      <th>home_ownership</th>\n",
              "      <th>annual_inc</th>\n",
              "      <th>verification_status</th>\n",
              "      <th>dti</th>\n",
              "      <th>open_acc</th>\n",
              "      <th>pub_rec</th>\n",
              "      <th>revol_bal</th>\n",
              "      <th>total_acc</th>\n",
              "      <th>initial_list_status</th>\n",
              "      <th>total_pymnt</th>\n",
              "      <th>last_pymnt_d</th>\n",
              "      <th>collections_12_mths_ex_med</th>\n",
              "      <th>inq_last_12m</th>\n",
              "      <th>loan_creditworthiness</th>\n",
              "    </tr>\n",
              "  </thead>\n",
              "  <tbody>\n",
              "    <tr>\n",
              "      <th>886613</th>\n",
              "      <td>10000.0</td>\n",
              "      <td>11.99</td>\n",
              "      <td>B</td>\n",
              "      <td>8 years</td>\n",
              "      <td>RENT</td>\n",
              "      <td>31000.0</td>\n",
              "      <td>Verified</td>\n",
              "      <td>28.69</td>\n",
              "      <td>9.0</td>\n",
              "      <td>1.0</td>\n",
              "      <td>14037.0</td>\n",
              "      <td>15.0</td>\n",
              "      <td>f</td>\n",
              "      <td>3971.88</td>\n",
              "      <td>Jan-2016</td>\n",
              "      <td>0.0</td>\n",
              "      <td>NaN</td>\n",
              "      <td>1</td>\n",
              "    </tr>\n",
              "    <tr>\n",
              "      <th>886614</th>\n",
              "      <td>24000.0</td>\n",
              "      <td>11.99</td>\n",
              "      <td>B</td>\n",
              "      <td>10+ years</td>\n",
              "      <td>MORTGAGE</td>\n",
              "      <td>79000.0</td>\n",
              "      <td>Verified</td>\n",
              "      <td>3.90</td>\n",
              "      <td>5.0</td>\n",
              "      <td>0.0</td>\n",
              "      <td>8621.0</td>\n",
              "      <td>23.0</td>\n",
              "      <td>f</td>\n",
              "      <td>9532.39</td>\n",
              "      <td>Jan-2016</td>\n",
              "      <td>0.0</td>\n",
              "      <td>NaN</td>\n",
              "      <td>1</td>\n",
              "    </tr>\n",
              "    <tr>\n",
              "      <th>886615</th>\n",
              "      <td>13000.0</td>\n",
              "      <td>15.99</td>\n",
              "      <td>D</td>\n",
              "      <td>5 years</td>\n",
              "      <td>RENT</td>\n",
              "      <td>35000.0</td>\n",
              "      <td>Verified</td>\n",
              "      <td>30.90</td>\n",
              "      <td>9.0</td>\n",
              "      <td>1.0</td>\n",
              "      <td>11031.0</td>\n",
              "      <td>22.0</td>\n",
              "      <td>w</td>\n",
              "      <td>3769.74</td>\n",
              "      <td>Jan-2016</td>\n",
              "      <td>0.0</td>\n",
              "      <td>NaN</td>\n",
              "      <td>1</td>\n",
              "    </tr>\n",
              "    <tr>\n",
              "      <th>886616</th>\n",
              "      <td>12000.0</td>\n",
              "      <td>19.99</td>\n",
              "      <td>E</td>\n",
              "      <td>1 year</td>\n",
              "      <td>RENT</td>\n",
              "      <td>64400.0</td>\n",
              "      <td>Source Verified</td>\n",
              "      <td>27.19</td>\n",
              "      <td>17.0</td>\n",
              "      <td>0.0</td>\n",
              "      <td>8254.0</td>\n",
              "      <td>20.0</td>\n",
              "      <td>w</td>\n",
              "      <td>3787.67</td>\n",
              "      <td>Jan-2016</td>\n",
              "      <td>1.0</td>\n",
              "      <td>NaN</td>\n",
              "      <td>1</td>\n",
              "    </tr>\n",
              "    <tr>\n",
              "      <th>886617</th>\n",
              "      <td>20000.0</td>\n",
              "      <td>11.99</td>\n",
              "      <td>B</td>\n",
              "      <td>10+ years</td>\n",
              "      <td>RENT</td>\n",
              "      <td>100000.0</td>\n",
              "      <td>Verified</td>\n",
              "      <td>10.83</td>\n",
              "      <td>8.0</td>\n",
              "      <td>1.0</td>\n",
              "      <td>33266.0</td>\n",
              "      <td>10.0</td>\n",
              "      <td>f</td>\n",
              "      <td>7943.76</td>\n",
              "      <td>Jan-2016</td>\n",
              "      <td>0.0</td>\n",
              "      <td>NaN</td>\n",
              "      <td>1</td>\n",
              "    </tr>\n",
              "  </tbody>\n",
              "</table>\n",
              "</div>\n",
              "      <button class=\"colab-df-convert\" onclick=\"convertToInteractive('df-d74b48c1-fcea-4d0d-bcd7-f675ad22d893')\"\n",
              "              title=\"Convert this dataframe to an interactive table.\"\n",
              "              style=\"display:none;\">\n",
              "        \n",
              "  <svg xmlns=\"http://www.w3.org/2000/svg\" height=\"24px\"viewBox=\"0 0 24 24\"\n",
              "       width=\"24px\">\n",
              "    <path d=\"M0 0h24v24H0V0z\" fill=\"none\"/>\n",
              "    <path d=\"M18.56 5.44l.94 2.06.94-2.06 2.06-.94-2.06-.94-.94-2.06-.94 2.06-2.06.94zm-11 1L8.5 8.5l.94-2.06 2.06-.94-2.06-.94L8.5 2.5l-.94 2.06-2.06.94zm10 10l.94 2.06.94-2.06 2.06-.94-2.06-.94-.94-2.06-.94 2.06-2.06.94z\"/><path d=\"M17.41 7.96l-1.37-1.37c-.4-.4-.92-.59-1.43-.59-.52 0-1.04.2-1.43.59L10.3 9.45l-7.72 7.72c-.78.78-.78 2.05 0 2.83L4 21.41c.39.39.9.59 1.41.59.51 0 1.02-.2 1.41-.59l7.78-7.78 2.81-2.81c.8-.78.8-2.07 0-2.86zM5.41 20L4 18.59l7.72-7.72 1.47 1.35L5.41 20z\"/>\n",
              "  </svg>\n",
              "      </button>\n",
              "      \n",
              "  <style>\n",
              "    .colab-df-container {\n",
              "      display:flex;\n",
              "      flex-wrap:wrap;\n",
              "      gap: 12px;\n",
              "    }\n",
              "\n",
              "    .colab-df-convert {\n",
              "      background-color: #E8F0FE;\n",
              "      border: none;\n",
              "      border-radius: 50%;\n",
              "      cursor: pointer;\n",
              "      display: none;\n",
              "      fill: #1967D2;\n",
              "      height: 32px;\n",
              "      padding: 0 0 0 0;\n",
              "      width: 32px;\n",
              "    }\n",
              "\n",
              "    .colab-df-convert:hover {\n",
              "      background-color: #E2EBFA;\n",
              "      box-shadow: 0px 1px 2px rgba(60, 64, 67, 0.3), 0px 1px 3px 1px rgba(60, 64, 67, 0.15);\n",
              "      fill: #174EA6;\n",
              "    }\n",
              "\n",
              "    [theme=dark] .colab-df-convert {\n",
              "      background-color: #3B4455;\n",
              "      fill: #D2E3FC;\n",
              "    }\n",
              "\n",
              "    [theme=dark] .colab-df-convert:hover {\n",
              "      background-color: #434B5C;\n",
              "      box-shadow: 0px 1px 3px 1px rgba(0, 0, 0, 0.15);\n",
              "      filter: drop-shadow(0px 1px 2px rgba(0, 0, 0, 0.3));\n",
              "      fill: #FFFFFF;\n",
              "    }\n",
              "  </style>\n",
              "\n",
              "      <script>\n",
              "        const buttonEl =\n",
              "          document.querySelector('#df-d74b48c1-fcea-4d0d-bcd7-f675ad22d893 button.colab-df-convert');\n",
              "        buttonEl.style.display =\n",
              "          google.colab.kernel.accessAllowed ? 'block' : 'none';\n",
              "\n",
              "        async function convertToInteractive(key) {\n",
              "          const element = document.querySelector('#df-d74b48c1-fcea-4d0d-bcd7-f675ad22d893');\n",
              "          const dataTable =\n",
              "            await google.colab.kernel.invokeFunction('convertToInteractive',\n",
              "                                                     [key], {});\n",
              "          if (!dataTable) return;\n",
              "\n",
              "          const docLinkHtml = 'Like what you see? Visit the ' +\n",
              "            '<a target=\"_blank\" href=https://colab.research.google.com/notebooks/data_table.ipynb>data table notebook</a>'\n",
              "            + ' to learn more about interactive tables.';\n",
              "          element.innerHTML = '';\n",
              "          dataTable['output_type'] = 'display_data';\n",
              "          await google.colab.output.renderOutput(dataTable, element);\n",
              "          const docLink = document.createElement('div');\n",
              "          docLink.innerHTML = docLinkHtml;\n",
              "          element.appendChild(docLink);\n",
              "        }\n",
              "      </script>\n",
              "    </div>\n",
              "  </div>\n",
              "  "
            ],
            "text/plain": [
              "        loan_amnt  int_rate grade emp_length home_ownership  annual_inc  \\\n",
              "886613    10000.0     11.99     B    8 years           RENT     31000.0   \n",
              "886614    24000.0     11.99     B  10+ years       MORTGAGE     79000.0   \n",
              "886615    13000.0     15.99     D    5 years           RENT     35000.0   \n",
              "886616    12000.0     19.99     E     1 year           RENT     64400.0   \n",
              "886617    20000.0     11.99     B  10+ years           RENT    100000.0   \n",
              "\n",
              "       verification_status    dti  open_acc  pub_rec  revol_bal  total_acc  \\\n",
              "886613            Verified  28.69       9.0      1.0    14037.0       15.0   \n",
              "886614            Verified   3.90       5.0      0.0     8621.0       23.0   \n",
              "886615            Verified  30.90       9.0      1.0    11031.0       22.0   \n",
              "886616     Source Verified  27.19      17.0      0.0     8254.0       20.0   \n",
              "886617            Verified  10.83       8.0      1.0    33266.0       10.0   \n",
              "\n",
              "       initial_list_status  total_pymnt last_pymnt_d  \\\n",
              "886613                   f      3971.88     Jan-2016   \n",
              "886614                   f      9532.39     Jan-2016   \n",
              "886615                   w      3769.74     Jan-2016   \n",
              "886616                   w      3787.67     Jan-2016   \n",
              "886617                   f      7943.76     Jan-2016   \n",
              "\n",
              "        collections_12_mths_ex_med  inq_last_12m  loan_creditworthiness  \n",
              "886613                         0.0           NaN                      1  \n",
              "886614                         0.0           NaN                      1  \n",
              "886615                         0.0           NaN                      1  \n",
              "886616                         1.0           NaN                      1  \n",
              "886617                         0.0           NaN                      1  "
            ]
          },
          "execution_count": 18,
          "metadata": {},
          "output_type": "execute_result"
        }
      ],
      "source": [
        "\n",
        "loan_selected.tail()"
      ]
    },
    {
      "cell_type": "markdown",
      "metadata": {
        "id": "iYMsHGFdMVCT"
      },
      "source": [
        "#### Convert Categorical variables"
      ]
    },
    {
      "cell_type": "markdown",
      "metadata": {
        "id": "paAU06SYvGFL"
      },
      "source": [
        "##### USING LABEL ENCODING - AS IT COULD HELP PRESERVE ORDERING\n"
      ]
    },
    {
      "cell_type": "code",
      "execution_count": null,
      "metadata": {
        "id": "UsBgToe0m2CE"
      },
      "outputs": [],
      "source": [
        "from sklearn.preprocessing import LabelEncoder"
      ]
    },
    {
      "cell_type": "code",
      "execution_count": null,
      "metadata": {
        "colab": {
          "base_uri": "https://localhost:8080/"
        },
        "id": "MaH9AQh5JZ-H",
        "outputId": "937633c2-2cf2-43d6-e786-a10f4493021a"
      },
      "outputs": [
        {
          "data": {
            "text/plain": [
              "array(['10+ years', '< 1 year', '1 year', '3 years', '8 years', '9 years',\n",
              "       '4 years', '5 years', '6 years', '2 years', '7 years', nan],\n",
              "      dtype=object)"
            ]
          },
          "execution_count": 20,
          "metadata": {},
          "output_type": "execute_result"
        }
      ],
      "source": [
        "# Categories in emp_length\n",
        "loan_selected['emp_length'].unique()\n"
      ]
    },
    {
      "cell_type": "code",
      "execution_count": null,
      "metadata": {
        "id": "OlSnZpItsplS"
      },
      "outputs": [],
      "source": [
        "# Define the desired order of categories\n",
        "category_order = ['< 1 year', '1 year', '2 years', '3 years', '4 years', '5 years', '6 years', '7 years', '8 years', '9 years', '10+ years', float('nan')]\n",
        "\n",
        "# Create a mapping of categories to numerical labels\n",
        "label_mapping = {category: label for label, category in enumerate(category_order)}\n",
        "\n",
        "# Apply the mapping to the 'emp_length' column\n",
        "loan_selected['emp_length_encoded'] = loan_selected['emp_length'].map(label_mapping)\n",
        "\n",
        "loan_selected = loan_selected.drop(['emp_length'],axis=1)\n"
      ]
    },
    {
      "cell_type": "code",
      "execution_count": null,
      "metadata": {
        "colab": {
          "base_uri": "https://localhost:8080/"
        },
        "id": "vaT-uAFut8NS",
        "outputId": "e49553ae-350a-4d87-b3f5-546b61daf1bf"
      },
      "outputs": [
        {
          "data": {
            "text/plain": [
              "array(['B', 'C', 'A', 'E', 'F', 'D', 'G'], dtype=object)"
            ]
          },
          "execution_count": 22,
          "metadata": {},
          "output_type": "execute_result"
        }
      ],
      "source": [
        "# categories in grade\n",
        "loan_selected['grade'].unique()\n"
      ]
    },
    {
      "cell_type": "code",
      "execution_count": null,
      "metadata": {
        "id": "L77OO8ys8MH1"
      },
      "outputs": [],
      "source": [
        "# Define the desired order of categories\n",
        "category_order = ['A', 'B', 'C', 'D', 'E', 'F','G']\n",
        "\n",
        "# Create a mapping of categories to numerical labels\n",
        "label_mapping = {category: label for label, category in enumerate(category_order)}\n",
        "\n",
        "# Apply the mapping to the 'emp_length' column\n",
        "loan_selected['grade_encoded'] = loan_selected['grade'].map(label_mapping)\n",
        "\n",
        "loan_selected = loan_selected.drop(['grade'],axis=1)"
      ]
    },
    {
      "cell_type": "code",
      "execution_count": null,
      "metadata": {
        "colab": {
          "base_uri": "https://localhost:8080/",
          "height": 270
        },
        "id": "PJOoIsGO9Og8",
        "outputId": "2b910582-3d24-48fb-f3c5-f92efbde4210"
      },
      "outputs": [
        {
          "data": {
            "text/html": [
              "\n",
              "  <div id=\"df-eaa7fa0e-6f4d-412f-bcb3-6e5b39f9ce09\">\n",
              "    <div class=\"colab-df-container\">\n",
              "      <div>\n",
              "<style scoped>\n",
              "    .dataframe tbody tr th:only-of-type {\n",
              "        vertical-align: middle;\n",
              "    }\n",
              "\n",
              "    .dataframe tbody tr th {\n",
              "        vertical-align: top;\n",
              "    }\n",
              "\n",
              "    .dataframe thead th {\n",
              "        text-align: right;\n",
              "    }\n",
              "</style>\n",
              "<table border=\"1\" class=\"dataframe\">\n",
              "  <thead>\n",
              "    <tr style=\"text-align: right;\">\n",
              "      <th></th>\n",
              "      <th>loan_amnt</th>\n",
              "      <th>int_rate</th>\n",
              "      <th>home_ownership</th>\n",
              "      <th>annual_inc</th>\n",
              "      <th>verification_status</th>\n",
              "      <th>dti</th>\n",
              "      <th>open_acc</th>\n",
              "      <th>pub_rec</th>\n",
              "      <th>revol_bal</th>\n",
              "      <th>total_acc</th>\n",
              "      <th>initial_list_status</th>\n",
              "      <th>total_pymnt</th>\n",
              "      <th>last_pymnt_d</th>\n",
              "      <th>collections_12_mths_ex_med</th>\n",
              "      <th>inq_last_12m</th>\n",
              "      <th>loan_creditworthiness</th>\n",
              "      <th>emp_length_encoded</th>\n",
              "      <th>grade_encoded</th>\n",
              "    </tr>\n",
              "  </thead>\n",
              "  <tbody>\n",
              "    <tr>\n",
              "      <th>0</th>\n",
              "      <td>5000.0</td>\n",
              "      <td>10.65</td>\n",
              "      <td>RENT</td>\n",
              "      <td>24000.0</td>\n",
              "      <td>Verified</td>\n",
              "      <td>27.65</td>\n",
              "      <td>3.0</td>\n",
              "      <td>0.0</td>\n",
              "      <td>13648.0</td>\n",
              "      <td>9.0</td>\n",
              "      <td>f</td>\n",
              "      <td>5861.071414</td>\n",
              "      <td>Jan-2015</td>\n",
              "      <td>0.0</td>\n",
              "      <td>NaN</td>\n",
              "      <td>1</td>\n",
              "      <td>10</td>\n",
              "      <td>1</td>\n",
              "    </tr>\n",
              "    <tr>\n",
              "      <th>1</th>\n",
              "      <td>2500.0</td>\n",
              "      <td>15.27</td>\n",
              "      <td>RENT</td>\n",
              "      <td>30000.0</td>\n",
              "      <td>Source Verified</td>\n",
              "      <td>1.00</td>\n",
              "      <td>3.0</td>\n",
              "      <td>0.0</td>\n",
              "      <td>1687.0</td>\n",
              "      <td>4.0</td>\n",
              "      <td>f</td>\n",
              "      <td>1008.710000</td>\n",
              "      <td>Apr-2013</td>\n",
              "      <td>0.0</td>\n",
              "      <td>NaN</td>\n",
              "      <td>0</td>\n",
              "      <td>0</td>\n",
              "      <td>2</td>\n",
              "    </tr>\n",
              "    <tr>\n",
              "      <th>2</th>\n",
              "      <td>2400.0</td>\n",
              "      <td>15.96</td>\n",
              "      <td>RENT</td>\n",
              "      <td>12252.0</td>\n",
              "      <td>Not Verified</td>\n",
              "      <td>8.72</td>\n",
              "      <td>2.0</td>\n",
              "      <td>0.0</td>\n",
              "      <td>2956.0</td>\n",
              "      <td>10.0</td>\n",
              "      <td>f</td>\n",
              "      <td>3003.653644</td>\n",
              "      <td>Jun-2014</td>\n",
              "      <td>0.0</td>\n",
              "      <td>NaN</td>\n",
              "      <td>1</td>\n",
              "      <td>10</td>\n",
              "      <td>2</td>\n",
              "    </tr>\n",
              "    <tr>\n",
              "      <th>3</th>\n",
              "      <td>10000.0</td>\n",
              "      <td>13.49</td>\n",
              "      <td>RENT</td>\n",
              "      <td>49200.0</td>\n",
              "      <td>Source Verified</td>\n",
              "      <td>20.00</td>\n",
              "      <td>10.0</td>\n",
              "      <td>0.0</td>\n",
              "      <td>5598.0</td>\n",
              "      <td>37.0</td>\n",
              "      <td>f</td>\n",
              "      <td>12226.302212</td>\n",
              "      <td>Jan-2015</td>\n",
              "      <td>0.0</td>\n",
              "      <td>NaN</td>\n",
              "      <td>1</td>\n",
              "      <td>10</td>\n",
              "      <td>2</td>\n",
              "    </tr>\n",
              "    <tr>\n",
              "      <th>4</th>\n",
              "      <td>3000.0</td>\n",
              "      <td>12.69</td>\n",
              "      <td>RENT</td>\n",
              "      <td>80000.0</td>\n",
              "      <td>Source Verified</td>\n",
              "      <td>17.94</td>\n",
              "      <td>15.0</td>\n",
              "      <td>0.0</td>\n",
              "      <td>27783.0</td>\n",
              "      <td>38.0</td>\n",
              "      <td>f</td>\n",
              "      <td>3242.170000</td>\n",
              "      <td>Jan-2016</td>\n",
              "      <td>0.0</td>\n",
              "      <td>NaN</td>\n",
              "      <td>1</td>\n",
              "      <td>1</td>\n",
              "      <td>1</td>\n",
              "    </tr>\n",
              "  </tbody>\n",
              "</table>\n",
              "</div>\n",
              "      <button class=\"colab-df-convert\" onclick=\"convertToInteractive('df-eaa7fa0e-6f4d-412f-bcb3-6e5b39f9ce09')\"\n",
              "              title=\"Convert this dataframe to an interactive table.\"\n",
              "              style=\"display:none;\">\n",
              "        \n",
              "  <svg xmlns=\"http://www.w3.org/2000/svg\" height=\"24px\"viewBox=\"0 0 24 24\"\n",
              "       width=\"24px\">\n",
              "    <path d=\"M0 0h24v24H0V0z\" fill=\"none\"/>\n",
              "    <path d=\"M18.56 5.44l.94 2.06.94-2.06 2.06-.94-2.06-.94-.94-2.06-.94 2.06-2.06.94zm-11 1L8.5 8.5l.94-2.06 2.06-.94-2.06-.94L8.5 2.5l-.94 2.06-2.06.94zm10 10l.94 2.06.94-2.06 2.06-.94-2.06-.94-.94-2.06-.94 2.06-2.06.94z\"/><path d=\"M17.41 7.96l-1.37-1.37c-.4-.4-.92-.59-1.43-.59-.52 0-1.04.2-1.43.59L10.3 9.45l-7.72 7.72c-.78.78-.78 2.05 0 2.83L4 21.41c.39.39.9.59 1.41.59.51 0 1.02-.2 1.41-.59l7.78-7.78 2.81-2.81c.8-.78.8-2.07 0-2.86zM5.41 20L4 18.59l7.72-7.72 1.47 1.35L5.41 20z\"/>\n",
              "  </svg>\n",
              "      </button>\n",
              "      \n",
              "  <style>\n",
              "    .colab-df-container {\n",
              "      display:flex;\n",
              "      flex-wrap:wrap;\n",
              "      gap: 12px;\n",
              "    }\n",
              "\n",
              "    .colab-df-convert {\n",
              "      background-color: #E8F0FE;\n",
              "      border: none;\n",
              "      border-radius: 50%;\n",
              "      cursor: pointer;\n",
              "      display: none;\n",
              "      fill: #1967D2;\n",
              "      height: 32px;\n",
              "      padding: 0 0 0 0;\n",
              "      width: 32px;\n",
              "    }\n",
              "\n",
              "    .colab-df-convert:hover {\n",
              "      background-color: #E2EBFA;\n",
              "      box-shadow: 0px 1px 2px rgba(60, 64, 67, 0.3), 0px 1px 3px 1px rgba(60, 64, 67, 0.15);\n",
              "      fill: #174EA6;\n",
              "    }\n",
              "\n",
              "    [theme=dark] .colab-df-convert {\n",
              "      background-color: #3B4455;\n",
              "      fill: #D2E3FC;\n",
              "    }\n",
              "\n",
              "    [theme=dark] .colab-df-convert:hover {\n",
              "      background-color: #434B5C;\n",
              "      box-shadow: 0px 1px 3px 1px rgba(0, 0, 0, 0.15);\n",
              "      filter: drop-shadow(0px 1px 2px rgba(0, 0, 0, 0.3));\n",
              "      fill: #FFFFFF;\n",
              "    }\n",
              "  </style>\n",
              "\n",
              "      <script>\n",
              "        const buttonEl =\n",
              "          document.querySelector('#df-eaa7fa0e-6f4d-412f-bcb3-6e5b39f9ce09 button.colab-df-convert');\n",
              "        buttonEl.style.display =\n",
              "          google.colab.kernel.accessAllowed ? 'block' : 'none';\n",
              "\n",
              "        async function convertToInteractive(key) {\n",
              "          const element = document.querySelector('#df-eaa7fa0e-6f4d-412f-bcb3-6e5b39f9ce09');\n",
              "          const dataTable =\n",
              "            await google.colab.kernel.invokeFunction('convertToInteractive',\n",
              "                                                     [key], {});\n",
              "          if (!dataTable) return;\n",
              "\n",
              "          const docLinkHtml = 'Like what you see? Visit the ' +\n",
              "            '<a target=\"_blank\" href=https://colab.research.google.com/notebooks/data_table.ipynb>data table notebook</a>'\n",
              "            + ' to learn more about interactive tables.';\n",
              "          element.innerHTML = '';\n",
              "          dataTable['output_type'] = 'display_data';\n",
              "          await google.colab.output.renderOutput(dataTable, element);\n",
              "          const docLink = document.createElement('div');\n",
              "          docLink.innerHTML = docLinkHtml;\n",
              "          element.appendChild(docLink);\n",
              "        }\n",
              "      </script>\n",
              "    </div>\n",
              "  </div>\n",
              "  "
            ],
            "text/plain": [
              "   loan_amnt  int_rate home_ownership  annual_inc verification_status    dti  \\\n",
              "0     5000.0     10.65           RENT     24000.0            Verified  27.65   \n",
              "1     2500.0     15.27           RENT     30000.0     Source Verified   1.00   \n",
              "2     2400.0     15.96           RENT     12252.0        Not Verified   8.72   \n",
              "3    10000.0     13.49           RENT     49200.0     Source Verified  20.00   \n",
              "4     3000.0     12.69           RENT     80000.0     Source Verified  17.94   \n",
              "\n",
              "   open_acc  pub_rec  revol_bal  total_acc initial_list_status   total_pymnt  \\\n",
              "0       3.0      0.0    13648.0        9.0                   f   5861.071414   \n",
              "1       3.0      0.0     1687.0        4.0                   f   1008.710000   \n",
              "2       2.0      0.0     2956.0       10.0                   f   3003.653644   \n",
              "3      10.0      0.0     5598.0       37.0                   f  12226.302212   \n",
              "4      15.0      0.0    27783.0       38.0                   f   3242.170000   \n",
              "\n",
              "  last_pymnt_d  collections_12_mths_ex_med  inq_last_12m  \\\n",
              "0     Jan-2015                         0.0           NaN   \n",
              "1     Apr-2013                         0.0           NaN   \n",
              "2     Jun-2014                         0.0           NaN   \n",
              "3     Jan-2015                         0.0           NaN   \n",
              "4     Jan-2016                         0.0           NaN   \n",
              "\n",
              "   loan_creditworthiness  emp_length_encoded  grade_encoded  \n",
              "0                      1                  10              1  \n",
              "1                      0                   0              2  \n",
              "2                      1                  10              2  \n",
              "3                      1                  10              2  \n",
              "4                      1                   1              1  "
            ]
          },
          "execution_count": 24,
          "metadata": {},
          "output_type": "execute_result"
        }
      ],
      "source": [
        "loan_selected.head()"
      ]
    },
    {
      "cell_type": "markdown",
      "metadata": {
        "id": "NS9Jj55e96dR"
      },
      "source": [
        "#### ONEHOT ENCODING"
      ]
    },
    {
      "cell_type": "code",
      "execution_count": null,
      "metadata": {
        "colab": {
          "base_uri": "https://localhost:8080/"
        },
        "id": "-l6Td7bmMf4W",
        "outputId": "8e76e850-be0f-4864-c108-2f044d8e197d"
      },
      "outputs": [
        {
          "data": {
            "text/plain": [
              "array(['RENT', 'OWN', 'MORTGAGE', 'OTHER', 'NONE', 'ANY'], dtype=object)"
            ]
          },
          "execution_count": 25,
          "metadata": {},
          "output_type": "execute_result"
        }
      ],
      "source": [
        "loan_selected['home_ownership'].unique()"
      ]
    },
    {
      "cell_type": "code",
      "execution_count": null,
      "metadata": {
        "colab": {
          "base_uri": "https://localhost:8080/"
        },
        "id": "YJy0_X46Muyi",
        "outputId": "2609f43f-c23a-4e23-834b-8da8dc8960a8"
      },
      "outputs": [
        {
          "data": {
            "text/plain": [
              "array(['Verified', 'Source Verified', 'Not Verified'], dtype=object)"
            ]
          },
          "execution_count": 26,
          "metadata": {},
          "output_type": "execute_result"
        }
      ],
      "source": [
        "loan_selected['verification_status'].unique()"
      ]
    },
    {
      "cell_type": "code",
      "execution_count": null,
      "metadata": {
        "colab": {
          "base_uri": "https://localhost:8080/"
        },
        "id": "f8v5H9kEMvba",
        "outputId": "7c8b9f3c-6289-40ad-ce3c-d5d3c22587fb"
      },
      "outputs": [
        {
          "data": {
            "text/plain": [
              "array(['f', 'w'], dtype=object)"
            ]
          },
          "execution_count": 27,
          "metadata": {},
          "output_type": "execute_result"
        }
      ],
      "source": [
        "loan_selected['initial_list_status'].unique()"
      ]
    },
    {
      "cell_type": "markdown",
      "metadata": {
        "id": "1tdrZ2xacz5i"
      },
      "source": [
        "* 'f': This value indicates that the loan listing was in a \"fractional\" status. \n",
        "\n",
        "* 'w': This value typically represents a \"whole\" loan listing status. "
      ]
    },
    {
      "cell_type": "code",
      "execution_count": null,
      "metadata": {
        "id": "wj-5rhR4-Rts"
      },
      "outputs": [],
      "source": [
        "from sklearn.preprocessing import OneHotEncoder"
      ]
    },
    {
      "cell_type": "code",
      "execution_count": null,
      "metadata": {
        "colab": {
          "base_uri": "https://localhost:8080/"
        },
        "id": "HsIRICx58pJF",
        "outputId": "d10ca8bf-6cbb-4c0f-81a0-128bba70c492"
      },
      "outputs": [
        {
          "name": "stderr",
          "output_type": "stream",
          "text": [
            "/usr/local/lib/python3.10/dist-packages/sklearn/preprocessing/_encoders.py:868: FutureWarning: `sparse` was renamed to `sparse_output` in version 1.2 and will be removed in 1.4. `sparse_output` is ignored unless you leave `sparse` to its default value.\n",
            "  warnings.warn(\n"
          ]
        }
      ],
      "source": [
        "\n",
        "# Select the columns to be one-hot encoded\n",
        "columns_to_encode = ['home_ownership', 'verification_status', 'initial_list_status']\n",
        "\n",
        "# Create an instance of the OneHotEncoder\n",
        "onehot_encoder = OneHotEncoder(sparse=False, handle_unknown='ignore')\n",
        "\n",
        "# Fit and transform the selected columns using one-hot encoding\n",
        "onehot_encoded = onehot_encoder.fit_transform(loan_selected[columns_to_encode])\n",
        "\n",
        "# Convert one-hot encoded features to a DataFrame\n",
        "onehot_encoded_df = pd.DataFrame(onehot_encoded, columns=onehot_encoder.get_feature_names_out(columns_to_encode))\n",
        "\n",
        "# Concatenate the original DataFrame and the one-hot encoded DataFrame\n",
        "df_encoded = pd.concat([loan_selected, onehot_encoded_df], axis=1)"
      ]
    },
    {
      "cell_type": "code",
      "execution_count": null,
      "metadata": {
        "id": "ZrFUG13K_WSF"
      },
      "outputs": [],
      "source": [
        "df_encoded = df_encoded.drop(['home_ownership', 'verification_status', 'initial_list_status'], axis=1)"
      ]
    },
    {
      "cell_type": "markdown",
      "metadata": {
        "id": "6e60-duDuf8g"
      },
      "source": [
        "##### NUMERIC CONVERSION - DOESN\"T PRESERVE THE EXACT VALUE BUT STILL MANAGES TO OBTAIN THE ORDER"
      ]
    },
    {
      "cell_type": "code",
      "execution_count": null,
      "metadata": {
        "colab": {
          "base_uri": "https://localhost:8080/"
        },
        "id": "n6oTZNhhM111",
        "outputId": "ef5d3776-f081-4827-d47e-3f34b3957dc7"
      },
      "outputs": [
        {
          "data": {
            "text/plain": [
              "array(['Jan-2015', 'Apr-2013', 'Jun-2014', 'Jan-2016', 'Apr-2012',\n",
              "       'Nov-2012', 'Jun-2013', 'Sep-2013', 'Jul-2012', 'Oct-2013',\n",
              "       'May-2013', 'Feb-2015', 'Aug-2015', 'Oct-2012', 'Sep-2012', nan,\n",
              "       'Dec-2012', 'Dec-2014', 'Aug-2013', 'Nov-2013', 'Jan-2014',\n",
              "       'Apr-2014', 'Aug-2014', 'Oct-2014', 'Aug-2012', 'Jul-2014',\n",
              "       'Jul-2013', 'Apr-2015', 'Feb-2014', 'Sep-2014', 'Jun-2012',\n",
              "       'Feb-2013', 'Mar-2013', 'May-2014', 'Mar-2015', 'Jan-2013',\n",
              "       'Dec-2013', 'Feb-2012', 'Mar-2014', 'Sep-2015', 'Nov-2015',\n",
              "       'Dec-2015', 'Jan-2012', 'Oct-2015', 'Nov-2014', 'Mar-2012',\n",
              "       'May-2012', 'Jun-2015', 'May-2015', 'Jul-2015', 'Dec-2011',\n",
              "       'Nov-2011', 'Oct-2011', 'Sep-2011', 'Aug-2011', 'Jul-2011',\n",
              "       'Jun-2011', 'May-2011', 'Apr-2011', 'Mar-2011', 'Feb-2011',\n",
              "       'Jan-2011', 'Dec-2010', 'Nov-2010', 'Oct-2010', 'Sep-2010',\n",
              "       'Aug-2010', 'Jul-2010', 'Jun-2010', 'May-2010', 'Apr-2010',\n",
              "       'Mar-2010', 'Feb-2010', 'Jan-2010', 'Dec-2009', 'Nov-2009',\n",
              "       'Oct-2009', 'Sep-2009', 'Aug-2009', 'Jul-2009', 'Jun-2009',\n",
              "       'May-2009', 'Apr-2009', 'Mar-2009', 'Feb-2009', 'Jan-2009',\n",
              "       'Dec-2008', 'Oct-2008', 'Aug-2008', 'Jul-2008', 'Sep-2008',\n",
              "       'Jun-2008', 'May-2008', 'Nov-2008', 'Apr-2008', 'Mar-2008',\n",
              "       'Feb-2008', 'Jan-2008', 'Dec-2007'], dtype=object)"
            ]
          },
          "execution_count": 31,
          "metadata": {},
          "output_type": "execute_result"
        }
      ],
      "source": [
        "df_encoded['last_pymnt_d'].unique()"
      ]
    },
    {
      "cell_type": "code",
      "execution_count": null,
      "metadata": {
        "id": "cdN6P7GTM33v"
      },
      "outputs": [],
      "source": [
        "df_encoded['last_pymnt_d'] = pd.to_datetime(df_encoded['last_pymnt_d']).astype(int) // 10**9"
      ]
    },
    {
      "cell_type": "markdown",
      "metadata": {
        "id": "pyOJ0tutd-4o"
      },
      "source": [
        "* converting to numeric conversion considering it to be reasonable, as feature is just used as one of many features to predict credit_worthiness"
      ]
    },
    {
      "cell_type": "code",
      "execution_count": null,
      "metadata": {
        "colab": {
          "base_uri": "https://localhost:8080/"
        },
        "id": "hAkBqCo9d6dS",
        "outputId": "f87c3530-3785-450f-b8cb-e12f92bb2fc2"
      },
      "outputs": [
        {
          "data": {
            "text/plain": [
              "array([ 1420070400,  1364774400,  1401580800,  1451606400,  1333238400,\n",
              "        1351728000,  1370044800,  1377993600,  1341100800,  1380585600,\n",
              "        1367366400,  1422748800,  1438387200,  1349049600,  1346457600,\n",
              "       -9223372037,  1354320000,  1417392000,  1375315200,  1383264000,\n",
              "        1388534400,  1396310400,  1406851200,  1412121600,  1343779200,\n",
              "        1404172800,  1372636800,  1427846400,  1391212800,  1409529600,\n",
              "        1338508800,  1359676800,  1362096000,  1398902400,  1425168000,\n",
              "        1356998400,  1385856000,  1328054400,  1393632000,  1441065600,\n",
              "        1446336000,  1448928000,  1325376000,  1443657600,  1414800000,\n",
              "        1330560000,  1335830400,  1433116800,  1430438400,  1435708800,\n",
              "        1322697600,  1320105600,  1317427200,  1314835200,  1312156800,\n",
              "        1309478400,  1306886400,  1304208000,  1301616000,  1298937600,\n",
              "        1296518400,  1293840000,  1291161600,  1288569600,  1285891200,\n",
              "        1283299200,  1280620800,  1277942400,  1275350400,  1272672000,\n",
              "        1270080000,  1267401600,  1264982400,  1262304000,  1259625600,\n",
              "        1257033600,  1254355200,  1251763200,  1249084800,  1246406400,\n",
              "        1243814400,  1241136000,  1238544000,  1235865600,  1233446400,\n",
              "        1230768000,  1228089600,  1222819200,  1217548800,  1214870400,\n",
              "        1220227200,  1212278400,  1209600000,  1225497600,  1207008000,\n",
              "        1204329600,  1201824000,  1199145600,  1196467200])"
            ]
          },
          "execution_count": 33,
          "metadata": {},
          "output_type": "execute_result"
        }
      ],
      "source": [
        "df_encoded['last_pymnt_d'].unique()"
      ]
    },
    {
      "cell_type": "code",
      "execution_count": null,
      "metadata": {
        "id": "HJeEphfmMK3j"
      },
      "outputs": [],
      "source": []
    },
    {
      "cell_type": "code",
      "execution_count": null,
      "metadata": {
        "id": "RNZw1IMzz6Oc"
      },
      "outputs": [],
      "source": [
        "X = df_encoded.drop('loan_creditworthiness', axis =1 )"
      ]
    },
    {
      "cell_type": "code",
      "execution_count": null,
      "metadata": {
        "id": "uS5Ka9ubHDDN"
      },
      "outputs": [],
      "source": [
        "y  = df_encoded['loan_creditworthiness']"
      ]
    },
    {
      "cell_type": "code",
      "execution_count": null,
      "metadata": {
        "colab": {
          "base_uri": "https://localhost:8080/"
        },
        "id": "NwbTbg7aDFQj",
        "outputId": "94edc34f-21d4-4c34-a674-4d4e3a6c0ee8"
      },
      "outputs": [
        {
          "name": "stdout",
          "output_type": "stream",
          "text": [
            "loan_amnt                                   0\n",
            "int_rate                                    0\n",
            "annual_inc                                  4\n",
            "dti                                         0\n",
            "open_acc                                   26\n",
            "pub_rec                                    26\n",
            "revol_bal                                   0\n",
            "total_acc                                  26\n",
            "total_pymnt                                 0\n",
            "last_pymnt_d                                0\n",
            "collections_12_mths_ex_med                123\n",
            "inq_last_12m                           865246\n",
            "loan_creditworthiness                       0\n",
            "emp_length_encoded                          0\n",
            "grade_encoded                               0\n",
            "home_ownership_ANY                          0\n",
            "home_ownership_MORTGAGE                     0\n",
            "home_ownership_NONE                         0\n",
            "home_ownership_OTHER                        0\n",
            "home_ownership_OWN                          0\n",
            "home_ownership_RENT                         0\n",
            "verification_status_Not Verified            0\n",
            "verification_status_Source Verified         0\n",
            "verification_status_Verified                0\n",
            "initial_list_status_f                       0\n",
            "initial_list_status_w                       0\n",
            "dtype: int64\n"
          ]
        }
      ],
      "source": [
        "\n",
        "# Check for missing values in the specified features/columns\n",
        "missing_values = df_encoded.isnull().sum()\n",
        "\n",
        "# Display the count of missing values\n",
        "print(missing_values)"
      ]
    },
    {
      "cell_type": "code",
      "execution_count": null,
      "metadata": {
        "id": "8unku0FTGrlY"
      },
      "outputs": [],
      "source": [
        "df_encoded = df_encoded.drop('inq_last_12m', axis=1)"
      ]
    },
    {
      "cell_type": "markdown",
      "metadata": {
        "id": "YQXcNdTmUPxE"
      },
      "source": [
        "Dropping inq_last_12m as most of the data is missing"
      ]
    },
    {
      "cell_type": "code",
      "execution_count": null,
      "metadata": {
        "id": "0V8-804ZHk_F"
      },
      "outputs": [],
      "source": [
        "df_encoded = df_encoded.dropna()"
      ]
    },
    {
      "cell_type": "code",
      "execution_count": null,
      "metadata": {
        "colab": {
          "base_uri": "https://localhost:8080/"
        },
        "id": "YRrjNHTEFW8J",
        "outputId": "1894702c-5fd5-40be-cb9a-d8420465b10b"
      },
      "outputs": [
        {
          "name": "stdout",
          "output_type": "stream",
          "text": [
            "loan_amnt                              0\n",
            "int_rate                               0\n",
            "annual_inc                             0\n",
            "dti                                    0\n",
            "open_acc                               0\n",
            "pub_rec                                0\n",
            "revol_bal                              0\n",
            "total_acc                              0\n",
            "total_pymnt                            0\n",
            "last_pymnt_d                           0\n",
            "collections_12_mths_ex_med             0\n",
            "loan_creditworthiness                  0\n",
            "emp_length_encoded                     0\n",
            "grade_encoded                          0\n",
            "home_ownership_ANY                     0\n",
            "home_ownership_MORTGAGE                0\n",
            "home_ownership_NONE                    0\n",
            "home_ownership_OTHER                   0\n",
            "home_ownership_OWN                     0\n",
            "home_ownership_RENT                    0\n",
            "verification_status_Not Verified       0\n",
            "verification_status_Source Verified    0\n",
            "verification_status_Verified           0\n",
            "initial_list_status_f                  0\n",
            "initial_list_status_w                  0\n",
            "dtype: int64\n"
          ]
        }
      ],
      "source": [
        "\n",
        "\n",
        "# Check for missing values in the specified features/columns\n",
        "missing_values = df_encoded.isnull().sum()\n",
        "\n",
        "# Display the count of missing values\n",
        "print(missing_values)"
      ]
    },
    {
      "cell_type": "markdown",
      "metadata": {
        "id": "ytiNHYxOIaXZ"
      },
      "source": [
        "### importing Required libraries"
      ]
    },
    {
      "cell_type": "code",
      "execution_count": null,
      "metadata": {
        "id": "-UxttXWcHdqe"
      },
      "outputs": [],
      "source": [
        "from sklearn.preprocessing import OneHotEncoder\n",
        "from sklearn.model_selection import train_test_split\n",
        "from sklearn.neighbors import KNeighborsClassifier\n",
        "from sklearn.ensemble import RandomForestClassifier\n",
        "from sklearn.metrics import classification_report\n",
        "from sklearn.model_selection import cross_val_score\n",
        "from sklearn.impute import SimpleImputer\n",
        "from sklearn.metrics import roc_curve, roc_auc_score\n",
        "import matplotlib.pyplot as plt"
      ]
    },
    {
      "cell_type": "code",
      "execution_count": null,
      "metadata": {
        "colab": {
          "base_uri": "https://localhost:8080/",
          "height": 505
        },
        "id": "S__GXy6itn4m",
        "outputId": "389ce268-477b-4d5f-f852-154fdc7932e4"
      },
      "outputs": [
        {
          "data": {
            "text/html": [
              "\n",
              "  <div id=\"df-13b8d416-280f-4c83-b5ce-19260577ee19\">\n",
              "    <div class=\"colab-df-container\">\n",
              "      <div>\n",
              "<style scoped>\n",
              "    .dataframe tbody tr th:only-of-type {\n",
              "        vertical-align: middle;\n",
              "    }\n",
              "\n",
              "    .dataframe tbody tr th {\n",
              "        vertical-align: top;\n",
              "    }\n",
              "\n",
              "    .dataframe thead th {\n",
              "        text-align: right;\n",
              "    }\n",
              "</style>\n",
              "<table border=\"1\" class=\"dataframe\">\n",
              "  <thead>\n",
              "    <tr style=\"text-align: right;\">\n",
              "      <th></th>\n",
              "      <th>loan_amnt</th>\n",
              "      <th>int_rate</th>\n",
              "      <th>annual_inc</th>\n",
              "      <th>dti</th>\n",
              "      <th>open_acc</th>\n",
              "      <th>pub_rec</th>\n",
              "      <th>revol_bal</th>\n",
              "      <th>total_acc</th>\n",
              "      <th>total_pymnt</th>\n",
              "      <th>last_pymnt_d</th>\n",
              "      <th>...</th>\n",
              "      <th>home_ownership_MORTGAGE</th>\n",
              "      <th>home_ownership_NONE</th>\n",
              "      <th>home_ownership_OTHER</th>\n",
              "      <th>home_ownership_OWN</th>\n",
              "      <th>home_ownership_RENT</th>\n",
              "      <th>verification_status_Not Verified</th>\n",
              "      <th>verification_status_Source Verified</th>\n",
              "      <th>verification_status_Verified</th>\n",
              "      <th>initial_list_status_f</th>\n",
              "      <th>initial_list_status_w</th>\n",
              "    </tr>\n",
              "  </thead>\n",
              "  <tbody>\n",
              "    <tr>\n",
              "      <th>0</th>\n",
              "      <td>5000.0</td>\n",
              "      <td>10.65</td>\n",
              "      <td>24000.0</td>\n",
              "      <td>27.65</td>\n",
              "      <td>3.0</td>\n",
              "      <td>0.0</td>\n",
              "      <td>13648.0</td>\n",
              "      <td>9.0</td>\n",
              "      <td>5861.071414</td>\n",
              "      <td>1420070400</td>\n",
              "      <td>...</td>\n",
              "      <td>0.0</td>\n",
              "      <td>0.0</td>\n",
              "      <td>0.0</td>\n",
              "      <td>0.0</td>\n",
              "      <td>1.0</td>\n",
              "      <td>0.0</td>\n",
              "      <td>0.0</td>\n",
              "      <td>1.0</td>\n",
              "      <td>1.0</td>\n",
              "      <td>0.0</td>\n",
              "    </tr>\n",
              "    <tr>\n",
              "      <th>1</th>\n",
              "      <td>2500.0</td>\n",
              "      <td>15.27</td>\n",
              "      <td>30000.0</td>\n",
              "      <td>1.00</td>\n",
              "      <td>3.0</td>\n",
              "      <td>0.0</td>\n",
              "      <td>1687.0</td>\n",
              "      <td>4.0</td>\n",
              "      <td>1008.710000</td>\n",
              "      <td>1364774400</td>\n",
              "      <td>...</td>\n",
              "      <td>0.0</td>\n",
              "      <td>0.0</td>\n",
              "      <td>0.0</td>\n",
              "      <td>0.0</td>\n",
              "      <td>1.0</td>\n",
              "      <td>0.0</td>\n",
              "      <td>1.0</td>\n",
              "      <td>0.0</td>\n",
              "      <td>1.0</td>\n",
              "      <td>0.0</td>\n",
              "    </tr>\n",
              "    <tr>\n",
              "      <th>2</th>\n",
              "      <td>2400.0</td>\n",
              "      <td>15.96</td>\n",
              "      <td>12252.0</td>\n",
              "      <td>8.72</td>\n",
              "      <td>2.0</td>\n",
              "      <td>0.0</td>\n",
              "      <td>2956.0</td>\n",
              "      <td>10.0</td>\n",
              "      <td>3003.653644</td>\n",
              "      <td>1401580800</td>\n",
              "      <td>...</td>\n",
              "      <td>0.0</td>\n",
              "      <td>0.0</td>\n",
              "      <td>0.0</td>\n",
              "      <td>0.0</td>\n",
              "      <td>1.0</td>\n",
              "      <td>1.0</td>\n",
              "      <td>0.0</td>\n",
              "      <td>0.0</td>\n",
              "      <td>1.0</td>\n",
              "      <td>0.0</td>\n",
              "    </tr>\n",
              "    <tr>\n",
              "      <th>3</th>\n",
              "      <td>10000.0</td>\n",
              "      <td>13.49</td>\n",
              "      <td>49200.0</td>\n",
              "      <td>20.00</td>\n",
              "      <td>10.0</td>\n",
              "      <td>0.0</td>\n",
              "      <td>5598.0</td>\n",
              "      <td>37.0</td>\n",
              "      <td>12226.302212</td>\n",
              "      <td>1420070400</td>\n",
              "      <td>...</td>\n",
              "      <td>0.0</td>\n",
              "      <td>0.0</td>\n",
              "      <td>0.0</td>\n",
              "      <td>0.0</td>\n",
              "      <td>1.0</td>\n",
              "      <td>0.0</td>\n",
              "      <td>1.0</td>\n",
              "      <td>0.0</td>\n",
              "      <td>1.0</td>\n",
              "      <td>0.0</td>\n",
              "    </tr>\n",
              "    <tr>\n",
              "      <th>4</th>\n",
              "      <td>3000.0</td>\n",
              "      <td>12.69</td>\n",
              "      <td>80000.0</td>\n",
              "      <td>17.94</td>\n",
              "      <td>15.0</td>\n",
              "      <td>0.0</td>\n",
              "      <td>27783.0</td>\n",
              "      <td>38.0</td>\n",
              "      <td>3242.170000</td>\n",
              "      <td>1451606400</td>\n",
              "      <td>...</td>\n",
              "      <td>0.0</td>\n",
              "      <td>0.0</td>\n",
              "      <td>0.0</td>\n",
              "      <td>0.0</td>\n",
              "      <td>1.0</td>\n",
              "      <td>0.0</td>\n",
              "      <td>1.0</td>\n",
              "      <td>0.0</td>\n",
              "      <td>1.0</td>\n",
              "      <td>0.0</td>\n",
              "    </tr>\n",
              "    <tr>\n",
              "      <th>...</th>\n",
              "      <td>...</td>\n",
              "      <td>...</td>\n",
              "      <td>...</td>\n",
              "      <td>...</td>\n",
              "      <td>...</td>\n",
              "      <td>...</td>\n",
              "      <td>...</td>\n",
              "      <td>...</td>\n",
              "      <td>...</td>\n",
              "      <td>...</td>\n",
              "      <td>...</td>\n",
              "      <td>...</td>\n",
              "      <td>...</td>\n",
              "      <td>...</td>\n",
              "      <td>...</td>\n",
              "      <td>...</td>\n",
              "      <td>...</td>\n",
              "      <td>...</td>\n",
              "      <td>...</td>\n",
              "      <td>...</td>\n",
              "      <td>...</td>\n",
              "    </tr>\n",
              "    <tr>\n",
              "      <th>886613</th>\n",
              "      <td>10000.0</td>\n",
              "      <td>11.99</td>\n",
              "      <td>31000.0</td>\n",
              "      <td>28.69</td>\n",
              "      <td>9.0</td>\n",
              "      <td>1.0</td>\n",
              "      <td>14037.0</td>\n",
              "      <td>15.0</td>\n",
              "      <td>3971.880000</td>\n",
              "      <td>1451606400</td>\n",
              "      <td>...</td>\n",
              "      <td>0.0</td>\n",
              "      <td>0.0</td>\n",
              "      <td>0.0</td>\n",
              "      <td>0.0</td>\n",
              "      <td>1.0</td>\n",
              "      <td>0.0</td>\n",
              "      <td>0.0</td>\n",
              "      <td>1.0</td>\n",
              "      <td>1.0</td>\n",
              "      <td>0.0</td>\n",
              "    </tr>\n",
              "    <tr>\n",
              "      <th>886614</th>\n",
              "      <td>24000.0</td>\n",
              "      <td>11.99</td>\n",
              "      <td>79000.0</td>\n",
              "      <td>3.90</td>\n",
              "      <td>5.0</td>\n",
              "      <td>0.0</td>\n",
              "      <td>8621.0</td>\n",
              "      <td>23.0</td>\n",
              "      <td>9532.390000</td>\n",
              "      <td>1451606400</td>\n",
              "      <td>...</td>\n",
              "      <td>1.0</td>\n",
              "      <td>0.0</td>\n",
              "      <td>0.0</td>\n",
              "      <td>0.0</td>\n",
              "      <td>0.0</td>\n",
              "      <td>0.0</td>\n",
              "      <td>0.0</td>\n",
              "      <td>1.0</td>\n",
              "      <td>1.0</td>\n",
              "      <td>0.0</td>\n",
              "    </tr>\n",
              "    <tr>\n",
              "      <th>886615</th>\n",
              "      <td>13000.0</td>\n",
              "      <td>15.99</td>\n",
              "      <td>35000.0</td>\n",
              "      <td>30.90</td>\n",
              "      <td>9.0</td>\n",
              "      <td>1.0</td>\n",
              "      <td>11031.0</td>\n",
              "      <td>22.0</td>\n",
              "      <td>3769.740000</td>\n",
              "      <td>1451606400</td>\n",
              "      <td>...</td>\n",
              "      <td>0.0</td>\n",
              "      <td>0.0</td>\n",
              "      <td>0.0</td>\n",
              "      <td>0.0</td>\n",
              "      <td>1.0</td>\n",
              "      <td>0.0</td>\n",
              "      <td>0.0</td>\n",
              "      <td>1.0</td>\n",
              "      <td>0.0</td>\n",
              "      <td>1.0</td>\n",
              "    </tr>\n",
              "    <tr>\n",
              "      <th>886616</th>\n",
              "      <td>12000.0</td>\n",
              "      <td>19.99</td>\n",
              "      <td>64400.0</td>\n",
              "      <td>27.19</td>\n",
              "      <td>17.0</td>\n",
              "      <td>0.0</td>\n",
              "      <td>8254.0</td>\n",
              "      <td>20.0</td>\n",
              "      <td>3787.670000</td>\n",
              "      <td>1451606400</td>\n",
              "      <td>...</td>\n",
              "      <td>0.0</td>\n",
              "      <td>0.0</td>\n",
              "      <td>0.0</td>\n",
              "      <td>0.0</td>\n",
              "      <td>1.0</td>\n",
              "      <td>0.0</td>\n",
              "      <td>1.0</td>\n",
              "      <td>0.0</td>\n",
              "      <td>0.0</td>\n",
              "      <td>1.0</td>\n",
              "    </tr>\n",
              "    <tr>\n",
              "      <th>886617</th>\n",
              "      <td>20000.0</td>\n",
              "      <td>11.99</td>\n",
              "      <td>100000.0</td>\n",
              "      <td>10.83</td>\n",
              "      <td>8.0</td>\n",
              "      <td>1.0</td>\n",
              "      <td>33266.0</td>\n",
              "      <td>10.0</td>\n",
              "      <td>7943.760000</td>\n",
              "      <td>1451606400</td>\n",
              "      <td>...</td>\n",
              "      <td>0.0</td>\n",
              "      <td>0.0</td>\n",
              "      <td>0.0</td>\n",
              "      <td>0.0</td>\n",
              "      <td>1.0</td>\n",
              "      <td>0.0</td>\n",
              "      <td>0.0</td>\n",
              "      <td>1.0</td>\n",
              "      <td>1.0</td>\n",
              "      <td>0.0</td>\n",
              "    </tr>\n",
              "  </tbody>\n",
              "</table>\n",
              "<p>886495 rows × 25 columns</p>\n",
              "</div>\n",
              "      <button class=\"colab-df-convert\" onclick=\"convertToInteractive('df-13b8d416-280f-4c83-b5ce-19260577ee19')\"\n",
              "              title=\"Convert this dataframe to an interactive table.\"\n",
              "              style=\"display:none;\">\n",
              "        \n",
              "  <svg xmlns=\"http://www.w3.org/2000/svg\" height=\"24px\"viewBox=\"0 0 24 24\"\n",
              "       width=\"24px\">\n",
              "    <path d=\"M0 0h24v24H0V0z\" fill=\"none\"/>\n",
              "    <path d=\"M18.56 5.44l.94 2.06.94-2.06 2.06-.94-2.06-.94-.94-2.06-.94 2.06-2.06.94zm-11 1L8.5 8.5l.94-2.06 2.06-.94-2.06-.94L8.5 2.5l-.94 2.06-2.06.94zm10 10l.94 2.06.94-2.06 2.06-.94-2.06-.94-.94-2.06-.94 2.06-2.06.94z\"/><path d=\"M17.41 7.96l-1.37-1.37c-.4-.4-.92-.59-1.43-.59-.52 0-1.04.2-1.43.59L10.3 9.45l-7.72 7.72c-.78.78-.78 2.05 0 2.83L4 21.41c.39.39.9.59 1.41.59.51 0 1.02-.2 1.41-.59l7.78-7.78 2.81-2.81c.8-.78.8-2.07 0-2.86zM5.41 20L4 18.59l7.72-7.72 1.47 1.35L5.41 20z\"/>\n",
              "  </svg>\n",
              "      </button>\n",
              "      \n",
              "  <style>\n",
              "    .colab-df-container {\n",
              "      display:flex;\n",
              "      flex-wrap:wrap;\n",
              "      gap: 12px;\n",
              "    }\n",
              "\n",
              "    .colab-df-convert {\n",
              "      background-color: #E8F0FE;\n",
              "      border: none;\n",
              "      border-radius: 50%;\n",
              "      cursor: pointer;\n",
              "      display: none;\n",
              "      fill: #1967D2;\n",
              "      height: 32px;\n",
              "      padding: 0 0 0 0;\n",
              "      width: 32px;\n",
              "    }\n",
              "\n",
              "    .colab-df-convert:hover {\n",
              "      background-color: #E2EBFA;\n",
              "      box-shadow: 0px 1px 2px rgba(60, 64, 67, 0.3), 0px 1px 3px 1px rgba(60, 64, 67, 0.15);\n",
              "      fill: #174EA6;\n",
              "    }\n",
              "\n",
              "    [theme=dark] .colab-df-convert {\n",
              "      background-color: #3B4455;\n",
              "      fill: #D2E3FC;\n",
              "    }\n",
              "\n",
              "    [theme=dark] .colab-df-convert:hover {\n",
              "      background-color: #434B5C;\n",
              "      box-shadow: 0px 1px 3px 1px rgba(0, 0, 0, 0.15);\n",
              "      filter: drop-shadow(0px 1px 2px rgba(0, 0, 0, 0.3));\n",
              "      fill: #FFFFFF;\n",
              "    }\n",
              "  </style>\n",
              "\n",
              "      <script>\n",
              "        const buttonEl =\n",
              "          document.querySelector('#df-13b8d416-280f-4c83-b5ce-19260577ee19 button.colab-df-convert');\n",
              "        buttonEl.style.display =\n",
              "          google.colab.kernel.accessAllowed ? 'block' : 'none';\n",
              "\n",
              "        async function convertToInteractive(key) {\n",
              "          const element = document.querySelector('#df-13b8d416-280f-4c83-b5ce-19260577ee19');\n",
              "          const dataTable =\n",
              "            await google.colab.kernel.invokeFunction('convertToInteractive',\n",
              "                                                     [key], {});\n",
              "          if (!dataTable) return;\n",
              "\n",
              "          const docLinkHtml = 'Like what you see? Visit the ' +\n",
              "            '<a target=\"_blank\" href=https://colab.research.google.com/notebooks/data_table.ipynb>data table notebook</a>'\n",
              "            + ' to learn more about interactive tables.';\n",
              "          element.innerHTML = '';\n",
              "          dataTable['output_type'] = 'display_data';\n",
              "          await google.colab.output.renderOutput(dataTable, element);\n",
              "          const docLink = document.createElement('div');\n",
              "          docLink.innerHTML = docLinkHtml;\n",
              "          element.appendChild(docLink);\n",
              "        }\n",
              "      </script>\n",
              "    </div>\n",
              "  </div>\n",
              "  "
            ],
            "text/plain": [
              "        loan_amnt  int_rate  annual_inc    dti  open_acc  pub_rec  revol_bal  \\\n",
              "0          5000.0     10.65     24000.0  27.65       3.0      0.0    13648.0   \n",
              "1          2500.0     15.27     30000.0   1.00       3.0      0.0     1687.0   \n",
              "2          2400.0     15.96     12252.0   8.72       2.0      0.0     2956.0   \n",
              "3         10000.0     13.49     49200.0  20.00      10.0      0.0     5598.0   \n",
              "4          3000.0     12.69     80000.0  17.94      15.0      0.0    27783.0   \n",
              "...           ...       ...         ...    ...       ...      ...        ...   \n",
              "886613    10000.0     11.99     31000.0  28.69       9.0      1.0    14037.0   \n",
              "886614    24000.0     11.99     79000.0   3.90       5.0      0.0     8621.0   \n",
              "886615    13000.0     15.99     35000.0  30.90       9.0      1.0    11031.0   \n",
              "886616    12000.0     19.99     64400.0  27.19      17.0      0.0     8254.0   \n",
              "886617    20000.0     11.99    100000.0  10.83       8.0      1.0    33266.0   \n",
              "\n",
              "        total_acc   total_pymnt  last_pymnt_d  ...  home_ownership_MORTGAGE  \\\n",
              "0             9.0   5861.071414    1420070400  ...                      0.0   \n",
              "1             4.0   1008.710000    1364774400  ...                      0.0   \n",
              "2            10.0   3003.653644    1401580800  ...                      0.0   \n",
              "3            37.0  12226.302212    1420070400  ...                      0.0   \n",
              "4            38.0   3242.170000    1451606400  ...                      0.0   \n",
              "...           ...           ...           ...  ...                      ...   \n",
              "886613       15.0   3971.880000    1451606400  ...                      0.0   \n",
              "886614       23.0   9532.390000    1451606400  ...                      1.0   \n",
              "886615       22.0   3769.740000    1451606400  ...                      0.0   \n",
              "886616       20.0   3787.670000    1451606400  ...                      0.0   \n",
              "886617       10.0   7943.760000    1451606400  ...                      0.0   \n",
              "\n",
              "        home_ownership_NONE  home_ownership_OTHER  home_ownership_OWN  \\\n",
              "0                       0.0                   0.0                 0.0   \n",
              "1                       0.0                   0.0                 0.0   \n",
              "2                       0.0                   0.0                 0.0   \n",
              "3                       0.0                   0.0                 0.0   \n",
              "4                       0.0                   0.0                 0.0   \n",
              "...                     ...                   ...                 ...   \n",
              "886613                  0.0                   0.0                 0.0   \n",
              "886614                  0.0                   0.0                 0.0   \n",
              "886615                  0.0                   0.0                 0.0   \n",
              "886616                  0.0                   0.0                 0.0   \n",
              "886617                  0.0                   0.0                 0.0   \n",
              "\n",
              "        home_ownership_RENT  verification_status_Not Verified  \\\n",
              "0                       1.0                               0.0   \n",
              "1                       1.0                               0.0   \n",
              "2                       1.0                               1.0   \n",
              "3                       1.0                               0.0   \n",
              "4                       1.0                               0.0   \n",
              "...                     ...                               ...   \n",
              "886613                  1.0                               0.0   \n",
              "886614                  0.0                               0.0   \n",
              "886615                  1.0                               0.0   \n",
              "886616                  1.0                               0.0   \n",
              "886617                  1.0                               0.0   \n",
              "\n",
              "        verification_status_Source Verified  verification_status_Verified  \\\n",
              "0                                       0.0                           1.0   \n",
              "1                                       1.0                           0.0   \n",
              "2                                       0.0                           0.0   \n",
              "3                                       1.0                           0.0   \n",
              "4                                       1.0                           0.0   \n",
              "...                                     ...                           ...   \n",
              "886613                                  0.0                           1.0   \n",
              "886614                                  0.0                           1.0   \n",
              "886615                                  0.0                           1.0   \n",
              "886616                                  1.0                           0.0   \n",
              "886617                                  0.0                           1.0   \n",
              "\n",
              "        initial_list_status_f  initial_list_status_w  \n",
              "0                         1.0                    0.0  \n",
              "1                         1.0                    0.0  \n",
              "2                         1.0                    0.0  \n",
              "3                         1.0                    0.0  \n",
              "4                         1.0                    0.0  \n",
              "...                       ...                    ...  \n",
              "886613                    1.0                    0.0  \n",
              "886614                    1.0                    0.0  \n",
              "886615                    0.0                    1.0  \n",
              "886616                    0.0                    1.0  \n",
              "886617                    1.0                    0.0  \n",
              "\n",
              "[886495 rows x 25 columns]"
            ]
          },
          "execution_count": 41,
          "metadata": {},
          "output_type": "execute_result"
        }
      ],
      "source": [
        "df_encoded"
      ]
    },
    {
      "cell_type": "markdown",
      "metadata": {
        "id": "x0o6MGDRIJ5-"
      },
      "source": [
        "Split data into train and  test split "
      ]
    },
    {
      "cell_type": "code",
      "execution_count": null,
      "metadata": {
        "id": "sooXuy_xHLPS"
      },
      "outputs": [],
      "source": [
        "X_train,X_test,y_train, y_test = train_test_split(X,y, test_size= 0.3, random_state = 42)"
      ]
    },
    {
      "cell_type": "markdown",
      "metadata": {
        "id": "1n76KWvlKqCG"
      },
      "source": [
        "#### Model Random Forest Classifier"
      ]
    },
    {
      "cell_type": "code",
      "execution_count": null,
      "metadata": {
        "colab": {
          "base_uri": "https://localhost:8080/"
        },
        "id": "WaSStbXBehFQ",
        "outputId": "8e3bef94-4335-4cdb-8aab-1c939dfb3280"
      },
      "outputs": [
        {
          "name": "stdout",
          "output_type": "stream",
          "text": [
            "Cross-Validation Scores:  [0.98929322 0.98934962 0.98926091 0.98959928 0.98842305]\n",
            "Average Cross-Validation Score:  0.989185217210187\n"
          ]
        }
      ],
      "source": [
        "# Handle missing values by imputing with the mean value\n",
        "imputer = SimpleImputer(strategy='mean')\n",
        "X_imputed = imputer.fit_transform(X_train)\n",
        "X_test_imputed = imputer.transform(X_test)\n",
        "\n",
        "\n",
        "# Create a Random Forest Classifier\n",
        "rf_classifier = RandomForestClassifier(n_estimators=100)\n",
        "\n",
        "# Perform cross-validation\n",
        "cross_val_scores = cross_val_score(rf_classifier, X_imputed, y_train, cv=5)  # cv=5 for 5-fold cross-validation\n",
        "\n",
        "# Print the cross-validation scores\n",
        "print(\"Cross-Validation Scores: \", cross_val_scores)\n",
        "print(\"Average Cross-Validation Score: \", cross_val_scores.mean())"
      ]
    },
    {
      "cell_type": "markdown",
      "metadata": {
        "id": "un2VGDT9U6kp"
      },
      "source": [
        "As individual cv scores are close to the average score, we can assume that the model is able to generalize the dataset."
      ]
    },
    {
      "cell_type": "code",
      "execution_count": null,
      "metadata": {
        "colab": {
          "base_uri": "https://localhost:8080/"
        },
        "id": "EjS8CCN8tPUr",
        "outputId": "1846114f-eb36-4367-d8a4-82d526f92603"
      },
      "outputs": [
        {
          "name": "stdout",
          "output_type": "stream",
          "text": [
            "Accuracy:  0.9894468129901574\n"
          ]
        }
      ],
      "source": [
        "# Fit the Random Forest classifier on the entire training data\n",
        "rf_classifier.fit(X_imputed, y_train)\n",
        "\n",
        "# Make predictions on the test data\n",
        "y_pred = rf_classifier.predict(X_test_imputed)\n",
        "\n",
        "# Evaluate the predictions (e.g., calculate accuracy)\n",
        "accuracy = rf_classifier.score(X_test_imputed, y_test)\n",
        "\n",
        "# Print the accuracy score\n",
        "print(\"Accuracy: \", accuracy)"
      ]
    },
    {
      "cell_type": "code",
      "execution_count": null,
      "metadata": {
        "colab": {
          "base_uri": "https://localhost:8080/"
        },
        "id": "ZZrEn7cZ5RDO",
        "outputId": "90d6ae55-ac8b-43cf-8ff6-7467fbc4fb93"
      },
      "outputs": [
        {
          "data": {
            "text/plain": [
              "0.9221634818328535"
            ]
          },
          "execution_count": 45,
          "metadata": {},
          "output_type": "execute_result"
        }
      ],
      "source": [
        "# Calculate the AUC score on the test data\n",
        "auc_score = roc_auc_score(y_test, y_pred)\n",
        "auc_score"
      ]
    },
    {
      "cell_type": "code",
      "execution_count": null,
      "metadata": {
        "colab": {
          "base_uri": "https://localhost:8080/",
          "height": 472
        },
        "id": "VhDnL0xhow7-",
        "outputId": "42d87697-14e4-4880-e092-b473d19564f5"
      },
      "outputs": [
        {
          "data": {
            "image/png": "[encoded data removed]",
            "text/plain": [
              "<Figure size 640x480 with 1 Axes>"
            ]
          },
          "metadata": {},
          "output_type": "display_data"
        }
      ],
      "source": [
        "# Calculate the false positive rate, true positive rate, and thresholds\n",
        "fpr, tpr, thresholds = roc_curve(y_test, y_pred)\n",
        "\n",
        "# Plot the ROC curve\n",
        "plt.plot(fpr, tpr, label='ROC curve (area = %0.2f)' % auc_score)\n",
        "plt.plot([0, 1], [0, 1], 'k--')  # Diagonal line representing random guessing\n",
        "plt.xlabel('False Positive Rate')\n",
        "plt.ylabel('True Positive Rate')\n",
        "plt.title('Receiver Operating Characteristic (ROC) Curve')\n",
        "plt.legend(loc='lower right')\n",
        "plt.show()"
      ]
    },
    {
      "cell_type": "markdown",
      "metadata": {
        "id": "771t2saWI6M6"
      },
      "source": [
        "####Model K-nearest Neighbour"
      ]
    },
    {
      "cell_type": "code",
      "execution_count": null,
      "metadata": {
        "colab": {
          "base_uri": "https://localhost:8080/"
        },
        "id": "yYgWlK7-Koz2",
        "outputId": "d75c98bf-e821-4740-b762-54bde3188f66"
      },
      "outputs": [
        {
          "name": "stdout",
          "output_type": "stream",
          "text": [
            "Cross-Validation Scores:  [0.97442136 0.97503363 0.97442115 0.97458228 0.97416335]\n",
            "Average Cross-Validation Score:  0.974524355163312\n"
          ]
        }
      ],
      "source": [
        "# Create a KNN Classifier\n",
        "knn_classifier = KNeighborsClassifier()\n",
        "\n",
        "# Perform cross-validation\n",
        "cross_val_scores = cross_val_score(knn_classifier, X_imputed, y_train, cv=5)  # cv=5 for 5-fold cross-validation\n",
        "\n",
        "# Print the cross-validation scores\n",
        "print(\"Cross-Validation Scores: \", cross_val_scores)\n",
        "print(\"Average Cross-Validation Score: \", cross_val_scores.mean())"
      ]
    },
    {
      "cell_type": "code",
      "execution_count": null,
      "metadata": {
        "colab": {
          "background_save": true
        },
        "id": "KL7LgohUsJW4",
        "outputId": "05a34aab-fdd7-454d-effb-249c5b8c55c9"
      },
      "outputs": [
        {
          "name": "stdout",
          "output_type": "stream",
          "text": [
            "Accuracy:  0.9755287872294031\n"
          ]
        }
      ],
      "source": [
        "# Train the KNN classifier on the training data\n",
        "knn_classifier.fit(X_imputed, y_train)\n",
        "\n",
        "# Make predictions on the test data\n",
        "y_pred = knn_classifier.predict(X_test_imputed)\n",
        "\n",
        "# Evaluate the predictions (e.g., calculate accuracy)\n",
        "accuracy = knn_classifier.score(X_test_imputed, y_test)\n",
        "\n",
        "# Print the accuracy score\n",
        "print(\"Accuracy: \", accuracy)\n"
      ]
    },
    {
      "cell_type": "code",
      "execution_count": null,
      "metadata": {
        "colab": {
          "background_save": true
        },
        "id": "x1_DkaWP5uzO",
        "outputId": "dfe7884c-18bb-41c5-8e49-e96d43c70987"
      },
      "outputs": [
        {
          "data": {
            "text/plain": [
              "0.8258161057661634"
            ]
          },
          "execution_count": 49,
          "metadata": {},
          "output_type": "execute_result"
        }
      ],
      "source": [
        "# Calculate the AUC score on the test data\n",
        "auc_score = roc_auc_score(y_test, y_pred)\n",
        "auc_score"
      ]
    },
    {
      "cell_type": "code",
      "execution_count": null,
      "metadata": {
        "colab": {
          "background_save": true
        },
        "id": "tagXESADo1aZ",
        "outputId": "c168047a-337e-4c5a-b595-4f49a44e01a5"
      },
      "outputs": [
        {
          "data": {
            "image/png": "[encoded data removed]",
            "text/plain": [
              "<Figure size 640x480 with 1 Axes>"
            ]
          },
          "metadata": {},
          "output_type": "display_data"
        }
      ],
      "source": [
        "# Calculate the false positive rate, true positive rate, and thresholds\n",
        "fpr, tpr, thresholds = roc_curve(y_test, y_pred)\n",
        "\n",
        "# Plot the ROC curve\n",
        "plt.plot(fpr, tpr, label='ROC curve (area = %0.2f)' % auc_score)\n",
        "plt.plot([0, 1], [0, 1], 'k--')  # Diagonal line representing random guessing\n",
        "plt.xlabel('False Positive Rate')\n",
        "plt.ylabel('True Positive Rate')\n",
        "plt.title('Receiver Operating Characteristic (ROC) Curve')\n",
        "plt.legend(loc='lower right')\n",
        "plt.show()"
      ]
    },
    {
      "cell_type": "markdown",
      "metadata": {
        "id": "_RXeYCIEIs1k"
      },
      "source": [
        "\n",
        "**Summary**\n",
        "\n",
        "**KNN Classifier**\n",
        "\n",
        "This shows that the KNN classifier did well, as evidenced by its high accuracy rating(0.9755) on the test data. The cross-validation model's performance appears to be consistent across various subsets of the data, according to the CV score of 0.9745. AUC score of the model is 0.8258, which shows the model is valid. \n",
        "\n",
        "**Random Forest**\n",
        "\n",
        "The Random Forest Classifier, on the other hand, produced results with a better accuracy of 0.9895 and a CV score of 0.9892. AUC score of 0.9231 also determines that the model is performing well. These results imply that the Random Forest Classifier performed more accurately than the KNN classifier. It performed better on the test data, and the CV score shows a high level of generalization and consistency of the model across various subsets of data.\n",
        "\n",
        "**Conclusion**\n",
        "\n",
        "Based on the above resutls confirms that Random Forest performs well on complex data due to its ability to handle nonlinear relationships, capture complex patterns, and handle noisy and high-dimensional data effectively. "
      ]
    }
  ],
  "metadata": {
    "colab": {
      "provenance": []
    },
    "kernelspec": {
      "display_name": "Python 3",
      "name": "python3"
    },
    "language_info": {
      "name": "python"
    }
  },
  "nbformat": 4,
  "nbformat_minor": 0
}